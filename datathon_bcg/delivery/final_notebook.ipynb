{
 "cells": [
  {
   "cell_type": "markdown",
   "metadata": {},
   "source": [
    "<h1 style=\"text-align: center;\">Forecasting traffic in Paris</h1>\n"
   ]
  },
  {
   "cell_type": "code",
   "execution_count": null,
   "metadata": {},
   "outputs": [],
   "source": [
    "import numpy as np\n",
    "import pandas as pd\n",
    "from prophet import Prophet\n",
    "import sys\n",
    "\n",
    "sys.path.append('/Users/clovispiedallu/Library/Mobile Documents/com~apple~CloudDocs/Documents/Machine Learning/Challenge/BCG/Datathon_BCG_colissiMONSTRE/datathon_bcg/module')\n",
    "\n",
    "from dataprep import *\n",
    "\n",
    "%load_ext autoreload\n",
    "%autoreload 2"
   ]
  },
  {
   "cell_type": "code",
   "execution_count": null,
   "metadata": {},
   "outputs": [],
   "source": [
    "df_convention_raw = load_traffic_data(arc='convention')\n",
    "df_champs_raw = load_traffic_data(arc='champs')\n",
    "df_sts_raw = load_traffic_data(arc='sts')\n",
    "\n",
    "df_convention_clean = traiter_donnees(df=df_convention_raw, arc='convention')\n",
    "df_champs_clean = traiter_donnees(df_champs_raw, arc='champs')\n",
    "df_sts_clean = traiter_donnees(df_sts_raw, arc='sts')"
   ]
  }
 ],
 "metadata": {
  "language_info": {
   "name": "python"
  }
 },
 "nbformat": 4,
 "nbformat_minor": 2
}
