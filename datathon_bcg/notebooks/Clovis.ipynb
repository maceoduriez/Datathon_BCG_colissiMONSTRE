{
 "cells": [
  {
   "cell_type": "code",
   "execution_count": 1,
   "metadata": {},
   "outputs": [
    {
     "ename": "ModuleNotFoundError",
     "evalue": "No module named 'dataprep'",
     "output_type": "error",
     "traceback": [
      "\u001b[0;31m---------------------------------------------------------------------------\u001b[0m",
      "\u001b[0;31mModuleNotFoundError\u001b[0m                       Traceback (most recent call last)",
      "\u001b[1;32m/Users/clovispiedallu/Library/Mobile Documents/com~apple~CloudDocs/Documents/Machine Learning/Challenge/BCG/Datathon_BCG_colissiMONSTRE/datathon_bcg/notebooks/Clovis.ipynb Cell 1\u001b[0m line \u001b[0;36m6\n\u001b[1;32m      <a href='vscode-notebook-cell:/Users/clovispiedallu/Library/Mobile%20Documents/com~apple~CloudDocs/Documents/Machine%20Learning/Challenge/BCG/Datathon_BCG_colissiMONSTRE/datathon_bcg/notebooks/Clovis.ipynb#W0sZmlsZQ%3D%3D?line=1'>2</a>\u001b[0m \u001b[39mimport\u001b[39;00m \u001b[39msys\u001b[39;00m\n\u001b[1;32m      <a href='vscode-notebook-cell:/Users/clovispiedallu/Library/Mobile%20Documents/com~apple~CloudDocs/Documents/Machine%20Learning/Challenge/BCG/Datathon_BCG_colissiMONSTRE/datathon_bcg/notebooks/Clovis.ipynb#W0sZmlsZQ%3D%3D?line=3'>4</a>\u001b[0m sys\u001b[39m.\u001b[39mpath\u001b[39m.\u001b[39mappend(\u001b[39m'\u001b[39m\u001b[39mdatathon_bcg/module\u001b[39m\u001b[39m'\u001b[39m)\n\u001b[0;32m----> <a href='vscode-notebook-cell:/Users/clovispiedallu/Library/Mobile%20Documents/com~apple~CloudDocs/Documents/Machine%20Learning/Challenge/BCG/Datathon_BCG_colissiMONSTRE/datathon_bcg/notebooks/Clovis.ipynb#W0sZmlsZQ%3D%3D?line=5'>6</a>\u001b[0m \u001b[39mfrom\u001b[39;00m \u001b[39mdataprep\u001b[39;00m \u001b[39mimport\u001b[39;00m \u001b[39m*\u001b[39m\n",
      "\u001b[0;31mModuleNotFoundError\u001b[0m: No module named 'dataprep'"
     ]
    }
   ],
   "source": [
    "import numpy as np\n",
    "import sys\n",
    "\n",
    "sys.path.append('datathon_bcg/module')\n",
    "\n",
    "from dataprep import *"
   ]
  },
  {
   "cell_type": "code",
   "execution_count": 2,
   "metadata": {},
   "outputs": [
    {
     "data": {
      "text/plain": [
       "['/Users/clovispiedallu/Library/Mobile Documents/com~apple~CloudDocs/Documents/Machine Learning/Challenge/BCG/Datathon_BCG_colissiMONSTRE/datathon_bcg/notebooks',\n",
       " '/Users/clovispiedallu/opt/anaconda3/envs/ML/lib/python39.zip',\n",
       " '/Users/clovispiedallu/opt/anaconda3/envs/ML/lib/python3.9',\n",
       " '/Users/clovispiedallu/opt/anaconda3/envs/ML/lib/python3.9/lib-dynload',\n",
       " '',\n",
       " '/Users/clovispiedallu/opt/anaconda3/envs/ML/lib/python3.9/site-packages',\n",
       " 'datathon_bcg/module']"
      ]
     },
     "execution_count": 2,
     "metadata": {},
     "output_type": "execute_result"
    }
   ],
   "source": [
    "sys.path"
   ]
  },
  {
   "cell_type": "code",
   "execution_count": null,
   "metadata": {},
   "outputs": [],
   "source": []
  }
 ],
 "metadata": {
  "kernelspec": {
   "display_name": "ML",
   "language": "python",
   "name": "python3"
  },
  "language_info": {
   "codemirror_mode": {
    "name": "ipython",
    "version": 3
   },
   "file_extension": ".py",
   "mimetype": "text/x-python",
   "name": "python",
   "nbconvert_exporter": "python",
   "pygments_lexer": "ipython3",
   "version": "3.9.16"
  }
 },
 "nbformat": 4,
 "nbformat_minor": 2
}
