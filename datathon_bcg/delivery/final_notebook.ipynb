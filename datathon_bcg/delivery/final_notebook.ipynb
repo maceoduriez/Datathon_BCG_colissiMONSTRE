{
 "cells": [
  {
   "cell_type": "markdown",
   "metadata": {},
   "source": [
    "<h1 style=\"text-align: center;\">Forecasting traffic in Paris</h1>\n"
   ]
  },
  {
   "cell_type": "code",
   "execution_count": 4,
   "metadata": {},
   "outputs": [
    {
     "name": "stdout",
     "output_type": "stream",
     "text": [
      "The autoreload extension is already loaded. To reload it, use:\n",
      "  %reload_ext autoreload\n"
     ]
    }
   ],
   "source": [
    "import numpy as np\n",
    "import pandas as pd\n",
    "from prophet import Prophet\n",
    "import sys\n",
    "\n",
    "sys.path.append('/Users/clovispiedallu/Library/Mobile Documents/com~apple~CloudDocs/Documents/Machine Learning/Challenge/BCG/Datathon_BCG_colissiMONSTRE/datathon_bcg/module')\n",
    "\n",
    "from dataprep import *\n",
    "\n",
    "%load_ext autoreload\n",
    "%autoreload 2"
   ]
  },
  {
   "cell_type": "code",
   "execution_count": 2,
   "metadata": {},
   "outputs": [
    {
     "name": "stdout",
     "output_type": "stream",
     "text": [
      "loading data for convention [...]\n",
      "loading data for champs [...]\n",
      "loading data for sts [...]\n"
     ]
    }
   ],
   "source": [
    "df_convention_raw = load_traffic_data(arc='convention')\n",
    "df_champs_raw = load_traffic_data(arc='champs')\n",
    "df_sts_raw = load_traffic_data(arc='sts')\n",
    "\n",
    "df_convention_clean = traiter_donnees(df=df_convention_raw, arc='convention')\n",
    "df_champs_clean = traiter_donnees(df_champs_raw, arc='champs')\n",
    "df_sts_clean = traiter_donnees(df_sts_raw, arc='sts')"
   ]
  },
  {
   "cell_type": "markdown",
   "metadata": {},
   "source": [
    "### External sources"
   ]
  },
  {
   "cell_type": "code",
   "execution_count": 6,
   "metadata": {},
   "outputs": [
    {
     "name": "stdout",
     "output_type": "stream",
     "text": [
      "loading data for worksites [...]\n"
     ]
    },
    {
     "data": {
      "text/html": [
       "<div>\n",
       "<style scoped>\n",
       "    .dataframe tbody tr th:only-of-type {\n",
       "        vertical-align: middle;\n",
       "    }\n",
       "\n",
       "    .dataframe tbody tr th {\n",
       "        vertical-align: top;\n",
       "    }\n",
       "\n",
       "    .dataframe thead th {\n",
       "        text-align: right;\n",
       "    }\n",
       "</style>\n",
       "<table border=\"1\" class=\"dataframe\">\n",
       "  <thead>\n",
       "    <tr style=\"text-align: right;\">\n",
       "      <th></th>\n",
       "      <th>date_debut</th>\n",
       "      <th>date_fin</th>\n",
       "      <th>niveau_perturbation</th>\n",
       "      <th>voie</th>\n",
       "      <th>impact_circulation</th>\n",
       "    </tr>\n",
       "  </thead>\n",
       "  <tbody>\n",
       "    <tr>\n",
       "      <th>35</th>\n",
       "      <td>2022-11-03</td>\n",
       "      <td>2023-04-14</td>\n",
       "      <td>2.0</td>\n",
       "      <td>Avenue des Champs Elysées</td>\n",
       "      <td>RESTREINTE</td>\n",
       "    </tr>\n",
       "    <tr>\n",
       "      <th>89</th>\n",
       "      <td>2023-04-03</td>\n",
       "      <td>2023-06-16</td>\n",
       "      <td>NaN</td>\n",
       "      <td>rue de la Convention</td>\n",
       "      <td>RESTREINTE</td>\n",
       "    </tr>\n",
       "    <tr>\n",
       "      <th>97</th>\n",
       "      <td>2021-07-12</td>\n",
       "      <td>2023-05-31</td>\n",
       "      <td>2.0</td>\n",
       "      <td>40 rue des Sts-Pères</td>\n",
       "      <td>RESTREINTE</td>\n",
       "    </tr>\n",
       "    <tr>\n",
       "      <th>159</th>\n",
       "      <td>2022-07-04</td>\n",
       "      <td>2023-05-12</td>\n",
       "      <td>1.0</td>\n",
       "      <td>Rue de la Convention</td>\n",
       "      <td>RESTREINTE</td>\n",
       "    </tr>\n",
       "    <tr>\n",
       "      <th>188</th>\n",
       "      <td>2022-06-13</td>\n",
       "      <td>2023-12-01</td>\n",
       "      <td>2.0</td>\n",
       "      <td>Avenue des Champs Elysées</td>\n",
       "      <td>RESTREINTE</td>\n",
       "    </tr>\n",
       "    <tr>\n",
       "      <th>190</th>\n",
       "      <td>2023-02-27</td>\n",
       "      <td>2023-04-28</td>\n",
       "      <td>2.0</td>\n",
       "      <td>Avenue des Champs Elysées</td>\n",
       "      <td>RESTREINTE</td>\n",
       "    </tr>\n",
       "  </tbody>\n",
       "</table>\n",
       "</div>"
      ],
      "text/plain": [
       "     date_debut    date_fin  niveau_perturbation                       voie  \\\n",
       "35   2022-11-03  2023-04-14                  2.0  Avenue des Champs Elysées   \n",
       "89   2023-04-03  2023-06-16                  NaN       rue de la Convention   \n",
       "97   2021-07-12  2023-05-31                  2.0       40 rue des Sts-Pères   \n",
       "159  2022-07-04  2023-05-12                  1.0       Rue de la Convention   \n",
       "188  2022-06-13  2023-12-01                  2.0  Avenue des Champs Elysées   \n",
       "190  2023-02-27  2023-04-28                  2.0  Avenue des Champs Elysées   \n",
       "\n",
       "    impact_circulation  \n",
       "35          RESTREINTE  \n",
       "89          RESTREINTE  \n",
       "97          RESTREINTE  \n",
       "159         RESTREINTE  \n",
       "188         RESTREINTE  \n",
       "190         RESTREINTE  "
      ]
     },
     "execution_count": 6,
     "metadata": {},
     "output_type": "execute_result"
    }
   ],
   "source": [
    "df_worksites_raw = load_worksites()\n",
    "df_worksites_clean = clean_worksites_data(df=df_worksites_raw)\n",
    "df_worksites_clean"
   ]
  },
  {
   "cell_type": "code",
   "execution_count": null,
   "metadata": {},
   "outputs": [],
   "source": []
  }
 ],
 "metadata": {
  "kernelspec": {
   "display_name": "ML",
   "language": "python",
   "name": "python3"
  },
  "language_info": {
   "codemirror_mode": {
    "name": "ipython",
    "version": 3
   },
   "file_extension": ".py",
   "mimetype": "text/x-python",
   "name": "python",
   "nbconvert_exporter": "python",
   "pygments_lexer": "ipython3",
   "version": "3.9.16"
  }
 },
 "nbformat": 4,
 "nbformat_minor": 2
}
