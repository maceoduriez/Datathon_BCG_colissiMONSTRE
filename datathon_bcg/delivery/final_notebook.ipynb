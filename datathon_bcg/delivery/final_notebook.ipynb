{
 "cells": [
  {
   "cell_type": "markdown",
   "metadata": {},
   "source": [
    "<h1 style=\"text-align: center;\">Forecasting traffic in Paris</h1>\n",
    "\n",
    "---"
   ]
  },
  {
   "cell_type": "code",
   "execution_count": 6,
   "metadata": {},
   "outputs": [
    {
     "name": "stdout",
     "output_type": "stream",
     "text": [
      "The autoreload extension is already loaded. To reload it, use:\n",
      "  %reload_ext autoreload\n"
     ]
    }
   ],
   "source": [
    "import numpy as np\n",
    "import pandas as pd\n",
    "from prophet import Prophet\n",
    "import sys\n",
    "\n",
    "\n",
    "sys.path.append('../module')\n",
    "\n",
    "from dataprep import *\n",
    "\n",
    "%load_ext autoreload\n",
    "%autoreload 2"
   ]
  },
  {
   "cell_type": "markdown",
   "metadata": {},
   "source": [
    "##### Setting parameters"
   ]
  },
  {
   "cell_type": "code",
   "execution_count": 13,
   "metadata": {},
   "outputs": [],
   "source": [
    "date_debut = '2023-12-08 00:00:00'\n",
    "date_fin = '2023-12-12 23:00:00'"
   ]
  },
  {
   "cell_type": "code",
   "execution_count": 7,
   "metadata": {},
   "outputs": [
    {
     "name": "stdout",
     "output_type": "stream",
     "text": [
      "loading data for convention [...]\n",
      "loading data for champs [...]\n",
      "loading data for sts [...]\n"
     ]
    }
   ],
   "source": [
    "df_convention_raw = load_traffic_data(arc='convention')\n",
    "df_champs_raw = load_traffic_data(arc='champs')\n",
    "df_sts_raw = load_traffic_data(arc='sts')\n",
    "\n",
    "df_convention_clean = traiter_donnees(df=df_convention_raw, arc='convention')\n",
    "df_champs_clean = traiter_donnees(df_champs_raw, arc='champs')\n",
    "df_sts_clean = traiter_donnees(df_sts_raw, arc='sts')"
   ]
  },
  {
   "cell_type": "markdown",
   "metadata": {},
   "source": [
    "#### Filling missing value with **RandomForestRegressor**"
   ]
  },
  {
   "cell_type": "code",
   "execution_count": 8,
   "metadata": {},
   "outputs": [
    {
     "name": "stdout",
     "output_type": "stream",
     "text": [
      "8454.069595446746\n",
      "62253.401494549675\n",
      "13122.411200477152\n",
      "10442.496585128052\n",
      "3623.673423436121\n"
     ]
    }
   ],
   "source": [
    "df_sts_clean = encode_categorical(df_sts_clean)\n",
    "df_champs_clean = encode_categorical(df_champs_clean)\n",
    "df_convention_clean = encode_categorical(df_champs_clean)\n",
    "\n",
    "df_champs_full, _ = impute_missing_values(df_champs_clean, verbose=True)\n",
    "df_convention_full, _ = impute_missing_values(df_convention_clean)\n",
    "df_sts_full, _ = impute_missing_values(df_sts_clean)"
   ]
  },
  {
   "cell_type": "code",
   "execution_count": 10,
   "metadata": {},
   "outputs": [
    {
     "data": {
      "text/html": [
       "<div>\n",
       "<style scoped>\n",
       "    .dataframe tbody tr th:only-of-type {\n",
       "        vertical-align: middle;\n",
       "    }\n",
       "\n",
       "    .dataframe tbody tr th {\n",
       "        vertical-align: top;\n",
       "    }\n",
       "\n",
       "    .dataframe thead th {\n",
       "        text-align: right;\n",
       "    }\n",
       "</style>\n",
       "<table border=\"1\" class=\"dataframe\">\n",
       "  <thead>\n",
       "    <tr style=\"text-align: right;\">\n",
       "      <th></th>\n",
       "      <th>libelle</th>\n",
       "      <th>taux_occupation</th>\n",
       "      <th>etat_arc</th>\n",
       "      <th>debit_horaire</th>\n",
       "    </tr>\n",
       "  </thead>\n",
       "  <tbody>\n",
       "    <tr>\n",
       "      <th>2022-11-01 04:00:00</th>\n",
       "      <td>0.0</td>\n",
       "      <td>8.89223</td>\n",
       "      <td>1.0</td>\n",
       "      <td>672.0</td>\n",
       "    </tr>\n",
       "    <tr>\n",
       "      <th>2022-11-01 05:00:00</th>\n",
       "      <td>0.0</td>\n",
       "      <td>7.12889</td>\n",
       "      <td>1.0</td>\n",
       "      <td>513.0</td>\n",
       "    </tr>\n",
       "    <tr>\n",
       "      <th>2022-11-01 06:00:00</th>\n",
       "      <td>0.0</td>\n",
       "      <td>6.22500</td>\n",
       "      <td>1.0</td>\n",
       "      <td>494.0</td>\n",
       "    </tr>\n",
       "    <tr>\n",
       "      <th>2022-11-01 07:00:00</th>\n",
       "      <td>0.0</td>\n",
       "      <td>5.80723</td>\n",
       "      <td>1.0</td>\n",
       "      <td>513.0</td>\n",
       "    </tr>\n",
       "    <tr>\n",
       "      <th>2022-11-01 08:00:00</th>\n",
       "      <td>0.0</td>\n",
       "      <td>5.57111</td>\n",
       "      <td>1.0</td>\n",
       "      <td>484.0</td>\n",
       "    </tr>\n",
       "  </tbody>\n",
       "</table>\n",
       "</div>"
      ],
      "text/plain": [
       "                     libelle  taux_occupation  etat_arc  debit_horaire\n",
       "2022-11-01 04:00:00      0.0          8.89223       1.0          672.0\n",
       "2022-11-01 05:00:00      0.0          7.12889       1.0          513.0\n",
       "2022-11-01 06:00:00      0.0          6.22500       1.0          494.0\n",
       "2022-11-01 07:00:00      0.0          5.80723       1.0          513.0\n",
       "2022-11-01 08:00:00      0.0          5.57111       1.0          484.0"
      ]
     },
     "execution_count": 10,
     "metadata": {},
     "output_type": "execute_result"
    }
   ],
   "source": [
    "df_champs_full.head()"
   ]
  },
  {
   "cell_type": "markdown",
   "metadata": {},
   "source": [
    "### External sources"
   ]
  },
  {
   "cell_type": "code",
   "execution_count": 6,
   "metadata": {},
   "outputs": [
    {
     "name": "stdout",
     "output_type": "stream",
     "text": [
      "loading data for worksites [...]\n"
     ]
    },
    {
     "data": {
      "text/html": [
       "<div>\n",
       "<style scoped>\n",
       "    .dataframe tbody tr th:only-of-type {\n",
       "        vertical-align: middle;\n",
       "    }\n",
       "\n",
       "    .dataframe tbody tr th {\n",
       "        vertical-align: top;\n",
       "    }\n",
       "\n",
       "    .dataframe thead th {\n",
       "        text-align: right;\n",
       "    }\n",
       "</style>\n",
       "<table border=\"1\" class=\"dataframe\">\n",
       "  <thead>\n",
       "    <tr style=\"text-align: right;\">\n",
       "      <th></th>\n",
       "      <th>date_debut</th>\n",
       "      <th>date_fin</th>\n",
       "      <th>niveau_perturbation</th>\n",
       "      <th>voie</th>\n",
       "      <th>impact_circulation</th>\n",
       "    </tr>\n",
       "  </thead>\n",
       "  <tbody>\n",
       "    <tr>\n",
       "      <th>35</th>\n",
       "      <td>2022-11-03</td>\n",
       "      <td>2023-04-14</td>\n",
       "      <td>2.0</td>\n",
       "      <td>Avenue des Champs Elysées</td>\n",
       "      <td>RESTREINTE</td>\n",
       "    </tr>\n",
       "    <tr>\n",
       "      <th>89</th>\n",
       "      <td>2023-04-03</td>\n",
       "      <td>2023-06-16</td>\n",
       "      <td>NaN</td>\n",
       "      <td>rue de la Convention</td>\n",
       "      <td>RESTREINTE</td>\n",
       "    </tr>\n",
       "    <tr>\n",
       "      <th>97</th>\n",
       "      <td>2021-07-12</td>\n",
       "      <td>2023-05-31</td>\n",
       "      <td>2.0</td>\n",
       "      <td>40 rue des Sts-Pères</td>\n",
       "      <td>RESTREINTE</td>\n",
       "    </tr>\n",
       "    <tr>\n",
       "      <th>159</th>\n",
       "      <td>2022-07-04</td>\n",
       "      <td>2023-05-12</td>\n",
       "      <td>1.0</td>\n",
       "      <td>Rue de la Convention</td>\n",
       "      <td>RESTREINTE</td>\n",
       "    </tr>\n",
       "    <tr>\n",
       "      <th>188</th>\n",
       "      <td>2022-06-13</td>\n",
       "      <td>2023-12-01</td>\n",
       "      <td>2.0</td>\n",
       "      <td>Avenue des Champs Elysées</td>\n",
       "      <td>RESTREINTE</td>\n",
       "    </tr>\n",
       "    <tr>\n",
       "      <th>190</th>\n",
       "      <td>2023-02-27</td>\n",
       "      <td>2023-04-28</td>\n",
       "      <td>2.0</td>\n",
       "      <td>Avenue des Champs Elysées</td>\n",
       "      <td>RESTREINTE</td>\n",
       "    </tr>\n",
       "  </tbody>\n",
       "</table>\n",
       "</div>"
      ],
      "text/plain": [
       "     date_debut    date_fin  niveau_perturbation                       voie  \\\n",
       "35   2022-11-03  2023-04-14                  2.0  Avenue des Champs Elysées   \n",
       "89   2023-04-03  2023-06-16                  NaN       rue de la Convention   \n",
       "97   2021-07-12  2023-05-31                  2.0       40 rue des Sts-Pères   \n",
       "159  2022-07-04  2023-05-12                  1.0       Rue de la Convention   \n",
       "188  2022-06-13  2023-12-01                  2.0  Avenue des Champs Elysées   \n",
       "190  2023-02-27  2023-04-28                  2.0  Avenue des Champs Elysées   \n",
       "\n",
       "    impact_circulation  \n",
       "35          RESTREINTE  \n",
       "89          RESTREINTE  \n",
       "97          RESTREINTE  \n",
       "159         RESTREINTE  \n",
       "188         RESTREINTE  \n",
       "190         RESTREINTE  "
      ]
     },
     "execution_count": 6,
     "metadata": {},
     "output_type": "execute_result"
    }
   ],
   "source": [
    "df_worksites_raw = load_worksites()\n",
    "df_worksites_clean = clean_worksites_data(df=df_worksites_raw)\n",
    "df_worksites_clean"
   ]
  },
  {
   "cell_type": "markdown",
   "metadata": {},
   "source": [
    "### Running predictions"
   ]
  },
  {
   "cell_type": "code",
   "execution_count": 59,
   "metadata": {},
   "outputs": [
    {
     "name": "stderr",
     "output_type": "stream",
     "text": [
      "17:57:55 - cmdstanpy - INFO - Chain [1] start processing\n",
      "17:57:56 - cmdstanpy - INFO - Chain [1] done processing\n",
      "/var/folders/28/jshtlf7d49gfsczw2j7qdf140000gn/T/ipykernel_18264/1937241805.py:12: SettingWithCopyWarning: \n",
      "A value is trying to be set on a copy of a slice from a DataFrame\n",
      "\n",
      "See the caveats in the documentation: https://pandas.pydata.org/pandas-docs/stable/user_guide/indexing.html#returning-a-view-versus-a-copy\n",
      "  df_prediction_conv_deb.rename(columns={'yhat':'debit_horaire', 'ds':'datetime'}, inplace=True)\n"
     ]
    }
   ],
   "source": [
    "df_prophet = pd.DataFrame()\n",
    "df_prophet['ds'] = df_convention_full.index\n",
    "df_prophet['y'] = df_convention_full['debit_horaire'].values\n",
    "\n",
    "m = Prophet()\n",
    "m.fit(df_prophet)\n",
    "future = m.make_future_dataframe(periods=120, freq='H')\n",
    "\n",
    "forecast = m.predict(future)\n",
    "\n",
    "df_prediction_conv_deb = forecast.loc[forecast['ds']>= date_debut]\n",
    "df_prediction_conv_deb.rename(columns={'yhat':'debit_horaire', 'ds':'datetime'}, inplace=True)\n",
    "df_prediction_conv_deb = df_prediction_conv_deb[['debit_horaire', 'datetime']]"
   ]
  },
  {
   "cell_type": "code",
   "execution_count": 62,
   "metadata": {},
   "outputs": [
    {
     "name": "stderr",
     "output_type": "stream",
     "text": [
      "17:58:16 - cmdstanpy - INFO - Chain [1] start processing\n",
      "17:58:17 - cmdstanpy - INFO - Chain [1] done processing\n",
      "/var/folders/28/jshtlf7d49gfsczw2j7qdf140000gn/T/ipykernel_18264/3539450932.py:12: SettingWithCopyWarning: \n",
      "A value is trying to be set on a copy of a slice from a DataFrame\n",
      "\n",
      "See the caveats in the documentation: https://pandas.pydata.org/pandas-docs/stable/user_guide/indexing.html#returning-a-view-versus-a-copy\n",
      "  df_prediction_conv_taux.rename(columns={'yhat':'taux_occupation', 'ds':'datetime'}, inplace=True,)\n"
     ]
    }
   ],
   "source": [
    "df_prophet = pd.DataFrame()\n",
    "df_prophet['ds'] = df_convention_full.index\n",
    "df_prophet['y'] = df_convention_full['taux_occupation'].values\n",
    "\n",
    "m = Prophet()\n",
    "m.fit(df_prophet)\n",
    "future = m.make_future_dataframe(periods=120, freq='H')\n",
    "\n",
    "forecast = m.predict(future)\n",
    "\n",
    "df_prediction_conv_taux = forecast.loc[forecast['ds']>= date_debut]\n",
    "df_prediction_conv_taux.rename(columns={'yhat':'taux_occupation', 'ds':'datetime'}, inplace=True,)\n",
    "df_prediction_conv_taux = df_prediction_conv_taux[['taux_occupation']]"
   ]
  },
  {
   "cell_type": "code",
   "execution_count": 94,
   "metadata": {},
   "outputs": [],
   "source": [
    "df_convention = pd.concat([df_prediction_conv_deb, df_prediction_conv_taux], axis=1)\n",
    "df_convention['arc']='Convention'\n",
    "df_convention = df_convention.head(120)"
   ]
  },
  {
   "cell_type": "code",
   "execution_count": 64,
   "metadata": {},
   "outputs": [
    {
     "name": "stderr",
     "output_type": "stream",
     "text": [
      "17:58:51 - cmdstanpy - INFO - Chain [1] start processing\n",
      "17:58:52 - cmdstanpy - INFO - Chain [1] done processing\n",
      "/var/folders/28/jshtlf7d49gfsczw2j7qdf140000gn/T/ipykernel_18264/399363388.py:12: SettingWithCopyWarning: \n",
      "A value is trying to be set on a copy of a slice from a DataFrame\n",
      "\n",
      "See the caveats in the documentation: https://pandas.pydata.org/pandas-docs/stable/user_guide/indexing.html#returning-a-view-versus-a-copy\n",
      "  df_prediction_sts_debit.rename(columns={'yhat':'debit_horaire', 'ds':'datetime'}, inplace=True)\n"
     ]
    }
   ],
   "source": [
    "df_prophet = pd.DataFrame()\n",
    "df_prophet['ds'] = df_sts_full.index\n",
    "df_prophet['y'] = df_sts_full['debit_horaire'].values\n",
    "\n",
    "m = Prophet()\n",
    "m.fit(df_prophet)\n",
    "future = m.make_future_dataframe(periods=120, freq='H')\n",
    "\n",
    "forecast = m.predict(future)\n",
    "\n",
    "df_prediction_sts_debit = forecast.loc[forecast['ds']>= date_debut]\n",
    "df_prediction_sts_debit.rename(columns={'yhat':'debit_horaire', 'ds':'datetime'}, inplace=True)\n",
    "df_prediction_sts_debit = df_prediction_sts_debit[['debit_horaire', 'datetime']]\n"
   ]
  },
  {
   "cell_type": "code",
   "execution_count": 65,
   "metadata": {},
   "outputs": [
    {
     "name": "stderr",
     "output_type": "stream",
     "text": [
      "17:59:01 - cmdstanpy - INFO - Chain [1] start processing\n",
      "17:59:03 - cmdstanpy - INFO - Chain [1] done processing\n",
      "/var/folders/28/jshtlf7d49gfsczw2j7qdf140000gn/T/ipykernel_18264/222719748.py:12: SettingWithCopyWarning: \n",
      "A value is trying to be set on a copy of a slice from a DataFrame\n",
      "\n",
      "See the caveats in the documentation: https://pandas.pydata.org/pandas-docs/stable/user_guide/indexing.html#returning-a-view-versus-a-copy\n",
      "  df_prediction_sts_taux.rename(columns={'yhat':'taux_occupation'}, inplace=True,)\n"
     ]
    }
   ],
   "source": [
    "df_prophet = pd.DataFrame()\n",
    "df_prophet['ds'] = df_sts_full.index\n",
    "df_prophet['y'] = df_sts_full['taux_occupation'].values\n",
    "\n",
    "m = Prophet()\n",
    "m.fit(df_prophet)\n",
    "future = m.make_future_dataframe(periods=120, freq='H')\n",
    "\n",
    "forecast = m.predict(future)\n",
    "\n",
    "df_prediction_sts_taux = forecast.loc[forecast['ds']>= date_debut]\n",
    "df_prediction_sts_taux.rename(columns={'yhat':'taux_occupation'}, inplace=True,)\n",
    "df_prediction_sts_taux = df_prediction_sts_taux['taux_occupation']"
   ]
  },
  {
   "cell_type": "code",
   "execution_count": 93,
   "metadata": {},
   "outputs": [],
   "source": [
    "df_sts = pd.concat([df_prediction_sts_debit, df_prediction_sts_taux], axis=1)\n",
    "df_sts['arc'] = 'Saint-Pères'\n",
    "df_sts = df_sts.head(120)"
   ]
  },
  {
   "cell_type": "code",
   "execution_count": 68,
   "metadata": {},
   "outputs": [
    {
     "name": "stderr",
     "output_type": "stream",
     "text": [
      "17:59:44 - cmdstanpy - INFO - Chain [1] start processing\n",
      "17:59:44 - cmdstanpy - INFO - Chain [1] done processing\n",
      "/var/folders/28/jshtlf7d49gfsczw2j7qdf140000gn/T/ipykernel_18264/4074214144.py:12: SettingWithCopyWarning: \n",
      "A value is trying to be set on a copy of a slice from a DataFrame\n",
      "\n",
      "See the caveats in the documentation: https://pandas.pydata.org/pandas-docs/stable/user_guide/indexing.html#returning-a-view-versus-a-copy\n",
      "  df_prediction_champs_debit.rename(columns={'yhat':'debit_horaire', 'ds':'datetime'}, inplace=True)\n"
     ]
    }
   ],
   "source": [
    "df_prophet = pd.DataFrame()\n",
    "df_prophet['ds'] = df_champs_full.index\n",
    "df_prophet['y'] = df_champs_full['debit_horaire'].values\n",
    "\n",
    "m = Prophet()\n",
    "m.fit(df_prophet)\n",
    "future = m.make_future_dataframe(periods=120, freq='H')\n",
    "\n",
    "forecast = m.predict(future)\n",
    "\n",
    "df_prediction_champs_debit = forecast.loc[forecast['ds']>= date_debut]\n",
    "df_prediction_champs_debit.rename(columns={'yhat':'debit_horaire', 'ds':'datetime'}, inplace=True)\n",
    "df_prediction_champs_debit = df_prediction_champs_debit[['debit_horaire', 'datetime']]"
   ]
  },
  {
   "cell_type": "code",
   "execution_count": 70,
   "metadata": {},
   "outputs": [
    {
     "name": "stderr",
     "output_type": "stream",
     "text": [
      "18:00:31 - cmdstanpy - INFO - Chain [1] start processing\n",
      "18:00:32 - cmdstanpy - INFO - Chain [1] done processing\n",
      "/var/folders/28/jshtlf7d49gfsczw2j7qdf140000gn/T/ipykernel_18264/494496408.py:12: SettingWithCopyWarning: \n",
      "A value is trying to be set on a copy of a slice from a DataFrame\n",
      "\n",
      "See the caveats in the documentation: https://pandas.pydata.org/pandas-docs/stable/user_guide/indexing.html#returning-a-view-versus-a-copy\n",
      "  df_prediction_champs_taux.rename(columns={'yhat':'taux_occupation'}, inplace=True,)\n"
     ]
    }
   ],
   "source": [
    "df_prophet = pd.DataFrame()\n",
    "df_prophet['ds'] = df_champs_full.index\n",
    "df_prophet['y'] = df_champs_full['taux_occupation'].values\n",
    "\n",
    "m = Prophet()\n",
    "m.fit(df_prophet)\n",
    "future = m.make_future_dataframe(periods=120, freq='H')\n",
    "\n",
    "forecast = m.predict(future)\n",
    "\n",
    "df_prediction_champs_taux = forecast.loc[forecast['ds']>= date_debut]\n",
    "df_prediction_champs_taux.rename(columns={'yhat':'taux_occupation'}, inplace=True,)\n",
    "df_prediction_champs_taux = df_prediction_champs_taux['taux_occupation']"
   ]
  },
  {
   "cell_type": "code",
   "execution_count": 92,
   "metadata": {},
   "outputs": [],
   "source": [
    "df_champs = pd.concat([df_prediction_sts_debit, df_prediction_sts_taux], axis=1)\n",
    "df_champs['arc'] = 'Champs-Elysées'\n",
    "df_champs = df_champs.head(120)"
   ]
  },
  {
   "cell_type": "code",
   "execution_count": 95,
   "metadata": {},
   "outputs": [
    {
     "data": {
      "text/html": [
       "<div>\n",
       "<style scoped>\n",
       "    .dataframe tbody tr th:only-of-type {\n",
       "        vertical-align: middle;\n",
       "    }\n",
       "\n",
       "    .dataframe tbody tr th {\n",
       "        vertical-align: top;\n",
       "    }\n",
       "\n",
       "    .dataframe thead th {\n",
       "        text-align: right;\n",
       "    }\n",
       "</style>\n",
       "<table border=\"1\" class=\"dataframe\">\n",
       "  <thead>\n",
       "    <tr style=\"text-align: right;\">\n",
       "      <th></th>\n",
       "      <th>debit_horaire</th>\n",
       "      <th>datetime</th>\n",
       "      <th>taux_occupation</th>\n",
       "      <th>arc</th>\n",
       "    </tr>\n",
       "  </thead>\n",
       "  <tbody>\n",
       "    <tr>\n",
       "      <th>9644</th>\n",
       "      <td>427.846555</td>\n",
       "      <td>2023-12-08 00:00:00</td>\n",
       "      <td>6.246563</td>\n",
       "      <td>Champs-Elysées</td>\n",
       "    </tr>\n",
       "    <tr>\n",
       "      <th>9645</th>\n",
       "      <td>381.808007</td>\n",
       "      <td>2023-12-08 01:00:00</td>\n",
       "      <td>5.552406</td>\n",
       "      <td>Champs-Elysées</td>\n",
       "    </tr>\n",
       "    <tr>\n",
       "      <th>9646</th>\n",
       "      <td>321.087564</td>\n",
       "      <td>2023-12-08 02:00:00</td>\n",
       "      <td>4.708809</td>\n",
       "      <td>Champs-Elysées</td>\n",
       "    </tr>\n",
       "    <tr>\n",
       "      <th>9647</th>\n",
       "      <td>245.417773</td>\n",
       "      <td>2023-12-08 03:00:00</td>\n",
       "      <td>3.786170</td>\n",
       "      <td>Champs-Elysées</td>\n",
       "    </tr>\n",
       "    <tr>\n",
       "      <th>9648</th>\n",
       "      <td>177.382058</td>\n",
       "      <td>2023-12-08 04:00:00</td>\n",
       "      <td>3.024640</td>\n",
       "      <td>Champs-Elysées</td>\n",
       "    </tr>\n",
       "  </tbody>\n",
       "</table>\n",
       "</div>"
      ],
      "text/plain": [
       "      debit_horaire            datetime  taux_occupation             arc\n",
       "9644     427.846555 2023-12-08 00:00:00         6.246563  Champs-Elysées\n",
       "9645     381.808007 2023-12-08 01:00:00         5.552406  Champs-Elysées\n",
       "9646     321.087564 2023-12-08 02:00:00         4.708809  Champs-Elysées\n",
       "9647     245.417773 2023-12-08 03:00:00         3.786170  Champs-Elysées\n",
       "9648     177.382058 2023-12-08 04:00:00         3.024640  Champs-Elysées"
      ]
     },
     "execution_count": 95,
     "metadata": {},
     "output_type": "execute_result"
    }
   ],
   "source": [
    "df_predictions = pd.concat([df_champs, df_sts, df_convention], axis=0)\n",
    "\n",
    "df_predictions.head()"
   ]
  },
  {
   "cell_type": "markdown",
   "metadata": {},
   "source": [
    "### Export and check output"
   ]
  },
  {
   "cell_type": "code",
   "execution_count": 96,
   "metadata": {},
   "outputs": [
    {
     "ename": "AssertionError",
     "evalue": "Column datetime does not have type <class 'object'>",
     "output_type": "error",
     "traceback": [
      "\u001b[0;31m---------------------------------------------------------------------------\u001b[0m",
      "\u001b[0;31mAssertionError\u001b[0m                            Traceback (most recent call last)",
      "\u001b[1;32m/Users/clovispiedallu/Library/Mobile Documents/com~apple~CloudDocs/Documents/Machine Learning/Challenge/BCG/Datathon_BCG_colissiMONSTRE/datathon_bcg/delivery/final_notebook.ipynb Cell 23\u001b[0m line \u001b[0;36m2\n\u001b[1;32m     <a href='vscode-notebook-cell:/Users/clovispiedallu/Library/Mobile%20Documents/com~apple~CloudDocs/Documents/Machine%20Learning/Challenge/BCG/Datathon_BCG_colissiMONSTRE/datathon_bcg/delivery/final_notebook.ipynb#X21sZmlsZQ%3D%3D?line=25'>26</a>\u001b[0m     \u001b[39mprint\u001b[39m(\u001b[39mf\u001b[39m\u001b[39m\"\u001b[39m\u001b[39m[SAVE OUTPUT] Saving output here: \u001b[39m\u001b[39m{\u001b[39;00moutput_path\u001b[39m}\u001b[39;00m\u001b[39m\"\u001b[39m)  \n\u001b[1;32m     <a href='vscode-notebook-cell:/Users/clovispiedallu/Library/Mobile%20Documents/com~apple~CloudDocs/Documents/Machine%20Learning/Challenge/BCG/Datathon_BCG_colissiMONSTRE/datathon_bcg/delivery/final_notebook.ipynb#X21sZmlsZQ%3D%3D?line=26'>27</a>\u001b[0m     output_df[output_columns\u001b[39m.\u001b[39mkeys()]\u001b[39m.\u001b[39mto_csv(output_path, sep\u001b[39m=\u001b[39m\u001b[39m\"\u001b[39m\u001b[39m;\u001b[39m\u001b[39m\"\u001b[39m)\n\u001b[0;32m---> <a href='vscode-notebook-cell:/Users/clovispiedallu/Library/Mobile%20Documents/com~apple~CloudDocs/Documents/Machine%20Learning/Challenge/BCG/Datathon_BCG_colissiMONSTRE/datathon_bcg/delivery/final_notebook.ipynb#X21sZmlsZQ%3D%3D?line=28'>29</a>\u001b[0m test_format_and_export_output(df_predictions, \u001b[39m\"\u001b[39;49m\u001b[39m../../datathon_bcg/\u001b[39;49m\u001b[39m\"\u001b[39;49m, \u001b[39m\"\u001b[39;49m\u001b[39mColissiMONSTRE\u001b[39;49m\u001b[39m\"\u001b[39;49m)\n",
      "\u001b[1;32m/Users/clovispiedallu/Library/Mobile Documents/com~apple~CloudDocs/Documents/Machine Learning/Challenge/BCG/Datathon_BCG_colissiMONSTRE/datathon_bcg/delivery/final_notebook.ipynb Cell 23\u001b[0m line \u001b[0;36m1\n\u001b[1;32m      <a href='vscode-notebook-cell:/Users/clovispiedallu/Library/Mobile%20Documents/com~apple~CloudDocs/Documents/Machine%20Learning/Challenge/BCG/Datathon_BCG_colissiMONSTRE/datathon_bcg/delivery/final_notebook.ipynb#X21sZmlsZQ%3D%3D?line=7'>8</a>\u001b[0m \u001b[39m#2. Check types    \u001b[39;00m\n\u001b[1;32m      <a href='vscode-notebook-cell:/Users/clovispiedallu/Library/Mobile%20Documents/com~apple~CloudDocs/Documents/Machine%20Learning/Challenge/BCG/Datathon_BCG_colissiMONSTRE/datathon_bcg/delivery/final_notebook.ipynb#X21sZmlsZQ%3D%3D?line=8'>9</a>\u001b[0m \u001b[39mfor\u001b[39;00m col, col_type \u001b[39min\u001b[39;00m output_columns\u001b[39m.\u001b[39mitems():\n\u001b[0;32m---> <a href='vscode-notebook-cell:/Users/clovispiedallu/Library/Mobile%20Documents/com~apple~CloudDocs/Documents/Machine%20Learning/Challenge/BCG/Datathon_BCG_colissiMONSTRE/datathon_bcg/delivery/final_notebook.ipynb#X21sZmlsZQ%3D%3D?line=9'>10</a>\u001b[0m     \u001b[39massert\u001b[39;00m output_df[col]\u001b[39m.\u001b[39mdtype \u001b[39m==\u001b[39m col_type, \u001b[39mf\u001b[39m\u001b[39m\"\u001b[39m\u001b[39mColumn \u001b[39m\u001b[39m{\u001b[39;00mcol\u001b[39m}\u001b[39;00m\u001b[39m does not have type \u001b[39m\u001b[39m{\u001b[39;00mcol_type\u001b[39m}\u001b[39;00m\u001b[39m\"\u001b[39m\n\u001b[1;32m     <a href='vscode-notebook-cell:/Users/clovispiedallu/Library/Mobile%20Documents/com~apple~CloudDocs/Documents/Machine%20Learning/Challenge/BCG/Datathon_BCG_colissiMONSTRE/datathon_bcg/delivery/final_notebook.ipynb#X21sZmlsZQ%3D%3D?line=10'>11</a>\u001b[0m \u001b[39m# 3. Check datetime string has right format    \u001b[39;00m\n\u001b[1;32m     <a href='vscode-notebook-cell:/Users/clovispiedallu/Library/Mobile%20Documents/com~apple~CloudDocs/Documents/Machine%20Learning/Challenge/BCG/Datathon_BCG_colissiMONSTRE/datathon_bcg/delivery/final_notebook.ipynb#X21sZmlsZQ%3D%3D?line=11'>12</a>\u001b[0m \u001b[39mtry\u001b[39;00m:\n",
      "\u001b[0;31mAssertionError\u001b[0m: Column datetime does not have type <class 'object'>"
     ]
    }
   ],
   "source": [
    "from datetime import datetime\n",
    "from pathlib import Path\n",
    "def test_format_and_export_output(output_df, output_directory, name_of_the_group):\n",
    "    output_columns = {\"arc\": object, \"datetime\": object, \"debit_horaire\": float, \"taux_occupation\": float}\n",
    "# 1. Check relevant columns are in output dataframe \n",
    "    assert sorted(list(output_df.columns)) == list(        \n",
    "    output_columns.keys()   ), \"Some columns are missing or unnecessary columns are in output\"\n",
    "    #2. Check types    \n",
    "    for col, col_type in output_columns.items():\n",
    "        assert output_df[col].dtype == col_type, f\"Column {col} does not have type {col_type}\"\n",
    "    # 3. Check datetime string has right format    \n",
    "    try:\n",
    "        output_df.datetime.apply(lambda x: datetime.strptime(x, \"%Y-%m-%d %H:%M\"))\n",
    "    except ValueError as e:\n",
    "        raise e\n",
    "    # 4. Check `arc` columns has right values\n",
    "    assert sorted(list(output_df[\"arc\"].unique())) == [        \n",
    "        \"Champs-Elysées\",\n",
    "           \"Convention\",\n",
    "           \"Saint-Pères\",\n",
    "           ], \"Output does not have expected unique values for column `arc`\"\n",
    "    # 5. Check dataframe has right number of rows\n",
    "    assert output_df.shape[0] == 360, f\"Expected number of rows is 360, output has {output_df.shape[0]}\"\n",
    "    # 6. Export output    \n",
    "    output_path = Path(output_directory) / f\"output_{name_of_the_group}.csv\"\n",
    "    print(f\"[SAVE OUTPUT] Saving output here: {output_path}\")  \n",
    "    output_df[output_columns.keys()].to_csv(output_path, sep=\";\")\n",
    "\n",
    "test_format_and_export_output(df_predictions, \"../../datathon_bcg/\", \"ColissiMONSTRE\")\n"
   ]
  },
  {
   "cell_type": "code",
   "execution_count": 104,
   "metadata": {},
   "outputs": [],
   "source": [
    "df_predictions['datetime'] = pd.to_datetime(df_predictions['datetime'], format=r'%Y-%m-%d %H:%M').dt.floor('min')"
   ]
  },
  {
   "cell_type": "code",
   "execution_count": 109,
   "metadata": {},
   "outputs": [],
   "source": [
    "df_predictions['datetime'] = df_predictions['datetime'].astype(str)"
   ]
  },
  {
   "cell_type": "code",
   "execution_count": 116,
   "metadata": {},
   "outputs": [
    {
     "ename": "KeyError",
     "evalue": "'key of type tuple not found and not a MultiIndex'",
     "output_type": "error",
     "traceback": [
      "\u001b[0;31m---------------------------------------------------------------------------\u001b[0m",
      "\u001b[0;31mKeyError\u001b[0m                                  Traceback (most recent call last)",
      "\u001b[1;32m/Users/clovispiedallu/Library/Mobile Documents/com~apple~CloudDocs/Documents/Machine Learning/Challenge/BCG/Datathon_BCG_colissiMONSTRE/datathon_bcg/delivery/final_notebook.ipynb Cell 26\u001b[0m line \u001b[0;36m1\n\u001b[0;32m----> <a href='vscode-notebook-cell:/Users/clovispiedallu/Library/Mobile%20Documents/com~apple~CloudDocs/Documents/Machine%20Learning/Challenge/BCG/Datathon_BCG_colissiMONSTRE/datathon_bcg/delivery/final_notebook.ipynb#X62sZmlsZQ%3D%3D?line=0'>1</a>\u001b[0m df_predictions[\u001b[39m'\u001b[39m\u001b[39mdatetime\u001b[39m\u001b[39m'\u001b[39m] \u001b[39m=\u001b[39m (df_predictions[\u001b[39m'\u001b[39;49m\u001b[39mdatetime\u001b[39;49m\u001b[39m'\u001b[39;49m])[:,:\u001b[39m6\u001b[39;49m]\n",
      "File \u001b[0;32m~/opt/anaconda3/envs/ML/lib/python3.9/site-packages/pandas/core/series.py:1007\u001b[0m, in \u001b[0;36mSeries.__getitem__\u001b[0;34m(self, key)\u001b[0m\n\u001b[1;32m   1004\u001b[0m     key \u001b[39m=\u001b[39m np\u001b[39m.\u001b[39masarray(key, dtype\u001b[39m=\u001b[39m\u001b[39mbool\u001b[39m)\n\u001b[1;32m   1005\u001b[0m     \u001b[39mreturn\u001b[39;00m \u001b[39mself\u001b[39m\u001b[39m.\u001b[39m_get_values(key)\n\u001b[0;32m-> 1007\u001b[0m \u001b[39mreturn\u001b[39;00m \u001b[39mself\u001b[39;49m\u001b[39m.\u001b[39;49m_get_with(key)\n",
      "File \u001b[0;32m~/opt/anaconda3/envs/ML/lib/python3.9/site-packages/pandas/core/series.py:1022\u001b[0m, in \u001b[0;36mSeries._get_with\u001b[0;34m(self, key)\u001b[0m\n\u001b[1;32m   1017\u001b[0m     \u001b[39mraise\u001b[39;00m \u001b[39mTypeError\u001b[39;00m(\n\u001b[1;32m   1018\u001b[0m         \u001b[39m\"\u001b[39m\u001b[39mIndexing a Series with DataFrame is not \u001b[39m\u001b[39m\"\u001b[39m\n\u001b[1;32m   1019\u001b[0m         \u001b[39m\"\u001b[39m\u001b[39msupported, use the appropriate DataFrame column\u001b[39m\u001b[39m\"\u001b[39m\n\u001b[1;32m   1020\u001b[0m     )\n\u001b[1;32m   1021\u001b[0m \u001b[39melif\u001b[39;00m \u001b[39misinstance\u001b[39m(key, \u001b[39mtuple\u001b[39m):\n\u001b[0;32m-> 1022\u001b[0m     \u001b[39mreturn\u001b[39;00m \u001b[39mself\u001b[39;49m\u001b[39m.\u001b[39;49m_get_values_tuple(key)\n\u001b[1;32m   1024\u001b[0m \u001b[39melif\u001b[39;00m \u001b[39mnot\u001b[39;00m is_list_like(key):\n\u001b[1;32m   1025\u001b[0m     \u001b[39m# e.g. scalars that aren't recognized by lib.is_scalar, GH#32684\u001b[39;00m\n\u001b[1;32m   1026\u001b[0m     \u001b[39mreturn\u001b[39;00m \u001b[39mself\u001b[39m\u001b[39m.\u001b[39mloc[key]\n",
      "File \u001b[0;32m~/opt/anaconda3/envs/ML/lib/python3.9/site-packages/pandas/core/series.py:1060\u001b[0m, in \u001b[0;36mSeries._get_values_tuple\u001b[0;34m(self, key)\u001b[0m\n\u001b[1;32m   1057\u001b[0m     \u001b[39mreturn\u001b[39;00m result\n\u001b[1;32m   1059\u001b[0m \u001b[39mif\u001b[39;00m \u001b[39mnot\u001b[39;00m \u001b[39misinstance\u001b[39m(\u001b[39mself\u001b[39m\u001b[39m.\u001b[39mindex, MultiIndex):\n\u001b[0;32m-> 1060\u001b[0m     \u001b[39mraise\u001b[39;00m \u001b[39mKeyError\u001b[39;00m(\u001b[39m\"\u001b[39m\u001b[39mkey of type tuple not found and not a MultiIndex\u001b[39m\u001b[39m\"\u001b[39m)\n\u001b[1;32m   1062\u001b[0m \u001b[39m# If key is contained, would have returned by now\u001b[39;00m\n\u001b[1;32m   1063\u001b[0m indexer, new_index \u001b[39m=\u001b[39m \u001b[39mself\u001b[39m\u001b[39m.\u001b[39mindex\u001b[39m.\u001b[39mget_loc_level(key)\n",
      "\u001b[0;31mKeyError\u001b[0m: 'key of type tuple not found and not a MultiIndex'"
     ]
    }
   ],
   "source": [
    "df_predictions['datetime'] = (df_predictions['datetime'])]"
   ]
  },
  {
   "cell_type": "code",
   "execution_count": 115,
   "metadata": {},
   "outputs": [
    {
     "data": {
      "text/html": [
       "<div>\n",
       "<style scoped>\n",
       "    .dataframe tbody tr th:only-of-type {\n",
       "        vertical-align: middle;\n",
       "    }\n",
       "\n",
       "    .dataframe tbody tr th {\n",
       "        vertical-align: top;\n",
       "    }\n",
       "\n",
       "    .dataframe thead th {\n",
       "        text-align: right;\n",
       "    }\n",
       "</style>\n",
       "<table border=\"1\" class=\"dataframe\">\n",
       "  <thead>\n",
       "    <tr style=\"text-align: right;\">\n",
       "      <th></th>\n",
       "      <th>debit_horaire</th>\n",
       "      <th>datetime</th>\n",
       "      <th>taux_occupation</th>\n",
       "      <th>arc</th>\n",
       "    </tr>\n",
       "  </thead>\n",
       "  <tbody>\n",
       "    <tr>\n",
       "      <th>9644</th>\n",
       "      <td>427.846555</td>\n",
       "      <td>2023-12-08 00:00:00</td>\n",
       "      <td>6.246563</td>\n",
       "      <td>Champs-Elysées</td>\n",
       "    </tr>\n",
       "    <tr>\n",
       "      <th>9645</th>\n",
       "      <td>381.808007</td>\n",
       "      <td>2023-12-08 01:00:00</td>\n",
       "      <td>5.552406</td>\n",
       "      <td>Champs-Elysées</td>\n",
       "    </tr>\n",
       "    <tr>\n",
       "      <th>9646</th>\n",
       "      <td>321.087564</td>\n",
       "      <td>2023-12-08 02:00:00</td>\n",
       "      <td>4.708809</td>\n",
       "      <td>Champs-Elysées</td>\n",
       "    </tr>\n",
       "    <tr>\n",
       "      <th>9647</th>\n",
       "      <td>245.417773</td>\n",
       "      <td>2023-12-08 03:00:00</td>\n",
       "      <td>3.786170</td>\n",
       "      <td>Champs-Elysées</td>\n",
       "    </tr>\n",
       "    <tr>\n",
       "      <th>9648</th>\n",
       "      <td>177.382058</td>\n",
       "      <td>2023-12-08 04:00:00</td>\n",
       "      <td>3.024640</td>\n",
       "      <td>Champs-Elysées</td>\n",
       "    </tr>\n",
       "    <tr>\n",
       "      <th>...</th>\n",
       "      <td>...</td>\n",
       "      <td>...</td>\n",
       "      <td>...</td>\n",
       "      <td>...</td>\n",
       "    </tr>\n",
       "    <tr>\n",
       "      <th>9759</th>\n",
       "      <td>1358.353982</td>\n",
       "      <td>NaN</td>\n",
       "      <td>36.183168</td>\n",
       "      <td>Convention</td>\n",
       "    </tr>\n",
       "    <tr>\n",
       "      <th>9760</th>\n",
       "      <td>1339.582191</td>\n",
       "      <td>NaN</td>\n",
       "      <td>34.792718</td>\n",
       "      <td>Convention</td>\n",
       "    </tr>\n",
       "    <tr>\n",
       "      <th>9761</th>\n",
       "      <td>1264.628612</td>\n",
       "      <td>NaN</td>\n",
       "      <td>32.111628</td>\n",
       "      <td>Convention</td>\n",
       "    </tr>\n",
       "    <tr>\n",
       "      <th>9762</th>\n",
       "      <td>1165.773798</td>\n",
       "      <td>NaN</td>\n",
       "      <td>29.006364</td>\n",
       "      <td>Convention</td>\n",
       "    </tr>\n",
       "    <tr>\n",
       "      <th>9763</th>\n",
       "      <td>1092.151629</td>\n",
       "      <td>NaN</td>\n",
       "      <td>26.470184</td>\n",
       "      <td>Convention</td>\n",
       "    </tr>\n",
       "  </tbody>\n",
       "</table>\n",
       "<p>360 rows × 4 columns</p>\n",
       "</div>"
      ],
      "text/plain": [
       "      debit_horaire             datetime  taux_occupation             arc\n",
       "9644     427.846555  2023-12-08 00:00:00         6.246563  Champs-Elysées\n",
       "9645     381.808007  2023-12-08 01:00:00         5.552406  Champs-Elysées\n",
       "9646     321.087564  2023-12-08 02:00:00         4.708809  Champs-Elysées\n",
       "9647     245.417773  2023-12-08 03:00:00         3.786170  Champs-Elysées\n",
       "9648     177.382058  2023-12-08 04:00:00         3.024640  Champs-Elysées\n",
       "...             ...                  ...              ...             ...\n",
       "9759    1358.353982                  NaN        36.183168      Convention\n",
       "9760    1339.582191                  NaN        34.792718      Convention\n",
       "9761    1264.628612                  NaN        32.111628      Convention\n",
       "9762    1165.773798                  NaN        29.006364      Convention\n",
       "9763    1092.151629                  NaN        26.470184      Convention\n",
       "\n",
       "[360 rows x 4 columns]"
      ]
     },
     "execution_count": 115,
     "metadata": {},
     "output_type": "execute_result"
    }
   ],
   "source": [
    "df_predictions"
   ]
  },
  {
   "cell_type": "code",
   "execution_count": 100,
   "metadata": {},
   "outputs": [],
   "source": [
    "df_predictions.to_csv('output_ColissiMONSTRE.csv', sep=';')"
   ]
  },
  {
   "cell_type": "code",
   "execution_count": 105,
   "metadata": {},
   "outputs": [],
   "source": [
    "df_predictions_final = df_predictions.head(360)"
   ]
  },
  {
   "cell_type": "code",
   "execution_count": 99,
   "metadata": {},
   "outputs": [
    {
     "data": {
      "text/html": [
       "<div>\n",
       "<style scoped>\n",
       "    .dataframe tbody tr th:only-of-type {\n",
       "        vertical-align: middle;\n",
       "    }\n",
       "\n",
       "    .dataframe tbody tr th {\n",
       "        vertical-align: top;\n",
       "    }\n",
       "\n",
       "    .dataframe thead th {\n",
       "        text-align: right;\n",
       "    }\n",
       "</style>\n",
       "<table border=\"1\" class=\"dataframe\">\n",
       "  <thead>\n",
       "    <tr style=\"text-align: right;\">\n",
       "      <th></th>\n",
       "      <th>debit_horaire</th>\n",
       "      <th>datetime</th>\n",
       "      <th>taux_occupation</th>\n",
       "      <th>arc</th>\n",
       "    </tr>\n",
       "  </thead>\n",
       "  <tbody>\n",
       "    <tr>\n",
       "      <th>9644</th>\n",
       "      <td>427.846555</td>\n",
       "      <td>2023-12-08 00:00:00</td>\n",
       "      <td>6.246563</td>\n",
       "      <td>Champs-Elysées</td>\n",
       "    </tr>\n",
       "    <tr>\n",
       "      <th>9645</th>\n",
       "      <td>381.808007</td>\n",
       "      <td>2023-12-08 01:00:00</td>\n",
       "      <td>5.552406</td>\n",
       "      <td>Champs-Elysées</td>\n",
       "    </tr>\n",
       "    <tr>\n",
       "      <th>9646</th>\n",
       "      <td>321.087564</td>\n",
       "      <td>2023-12-08 02:00:00</td>\n",
       "      <td>4.708809</td>\n",
       "      <td>Champs-Elysées</td>\n",
       "    </tr>\n",
       "    <tr>\n",
       "      <th>9647</th>\n",
       "      <td>245.417773</td>\n",
       "      <td>2023-12-08 03:00:00</td>\n",
       "      <td>3.786170</td>\n",
       "      <td>Champs-Elysées</td>\n",
       "    </tr>\n",
       "    <tr>\n",
       "      <th>9648</th>\n",
       "      <td>177.382058</td>\n",
       "      <td>2023-12-08 04:00:00</td>\n",
       "      <td>3.024640</td>\n",
       "      <td>Champs-Elysées</td>\n",
       "    </tr>\n",
       "  </tbody>\n",
       "</table>\n",
       "</div>"
      ],
      "text/plain": [
       "      debit_horaire            datetime  taux_occupation             arc\n",
       "9644     427.846555 2023-12-08 00:00:00         6.246563  Champs-Elysées\n",
       "9645     381.808007 2023-12-08 01:00:00         5.552406  Champs-Elysées\n",
       "9646     321.087564 2023-12-08 02:00:00         4.708809  Champs-Elysées\n",
       "9647     245.417773 2023-12-08 03:00:00         3.786170  Champs-Elysées\n",
       "9648     177.382058 2023-12-08 04:00:00         3.024640  Champs-Elysées"
      ]
     },
     "execution_count": 99,
     "metadata": {},
     "output_type": "execute_result"
    }
   ],
   "source": [
    "df_predictions.head()"
   ]
  },
  {
   "cell_type": "code",
   "execution_count": 98,
   "metadata": {},
   "outputs": [
    {
     "name": "stdout",
     "output_type": "stream",
     "text": [
      "<class 'pandas.core.frame.DataFrame'>\n",
      "Int64Index: 360 entries, 9644 to 9761\n",
      "Data columns (total 4 columns):\n",
      " #   Column           Non-Null Count  Dtype         \n",
      "---  ------           --------------  -----         \n",
      " 0   debit_horaire    360 non-null    float64       \n",
      " 1   datetime         360 non-null    datetime64[ns]\n",
      " 2   taux_occupation  360 non-null    float64       \n",
      " 3   arc              360 non-null    object        \n",
      "dtypes: datetime64[ns](1), float64(2), object(1)\n",
      "memory usage: 14.1+ KB\n"
     ]
    }
   ],
   "source": [
    "df_predictions_final.info()"
   ]
  },
  {
   "cell_type": "code",
   "execution_count": null,
   "metadata": {},
   "outputs": [],
   "source": []
  }
 ],
 "metadata": {
  "kernelspec": {
   "display_name": "ML",
   "language": "python",
   "name": "python3"
  },
  "language_info": {
   "codemirror_mode": {
    "name": "ipython",
    "version": 3
   },
   "file_extension": ".py",
   "mimetype": "text/x-python",
   "name": "python",
   "nbconvert_exporter": "python",
   "pygments_lexer": "ipython3",
   "version": "3.9.16"
  }
 },
 "nbformat": 4,
 "nbformat_minor": 2
}
