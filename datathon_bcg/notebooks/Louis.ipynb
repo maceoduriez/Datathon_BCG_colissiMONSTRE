{
 "cells": [
  {
   "cell_type": "code",
   "execution_count": 41,
   "metadata": {},
   "outputs": [],
   "source": [
    "import matplotlib as plt\n",
    "import sys\n",
    "import pandas as pd\n",
    "\n",
    "sys.path.append(r\"C:\\Users\\louis\\OneDrive\\Documents\\CS\\BCG Datathon\\Datathon_BCG_colissiMONSTRE\\datathon_bcg\\module\")\n",
    "sys.path.append(r\"C:\\Users\\louis\\OneDrive\\Documents\\CS\\BCG Datathon\\Datathon_BCG_colissiMONSTRE\\datathon_bcg\\data\\csv\\champs\")\n",
    "\n",
    "from dataprep import traiter_donnees\n"
   ]
  },
  {
   "cell_type": "code",
   "execution_count": 42,
   "metadata": {},
   "outputs": [],
   "source": [
    "df=pd.read_csv(r\"C:\\Users\\louis\\OneDrive\\Documents\\CS\\BCG Datathon\\Datathon_BCG_colissiMONSTRE\\datathon_bcg\\data\\csv\\champs\\champs_2023.csv\", delimiter=';')"
   ]
  },
  {
   "cell_type": "code",
   "execution_count": 44,
   "metadata": {},
   "outputs": [
    {
     "ename": "NameError",
     "evalue": "name 'pd' is not defined",
     "output_type": "error",
     "traceback": [
      "\u001b[1;31m---------------------------------------------------------------------------\u001b[0m",
      "\u001b[1;31mNameError\u001b[0m                                 Traceback (most recent call last)",
      "\u001b[1;32mc:\\Users\\louis\\OneDrive\\Documents\\CS\\BCG Datathon\\Datathon_BCG_colissiMONSTRE\\datathon_bcg\\notebooks\\Louis.ipynb Cell 3\u001b[0m line \u001b[0;36m1\n\u001b[1;32m----> <a href='vscode-notebook-cell:/c%3A/Users/louis/OneDrive/Documents/CS/BCG%20Datathon/Datathon_BCG_colissiMONSTRE/datathon_bcg/notebooks/Louis.ipynb#W3sZmlsZQ%3D%3D?line=0'>1</a>\u001b[0m df\u001b[39m=\u001b[39mtraiter_donnees(df)\n",
      "File \u001b[1;32m~\\OneDrive\\Documents\\CS\\BCG Datathon\\Datathon_BCG_colissiMONSTRE\\datathon_bcg\\module\\dataprep.py:20\u001b[0m, in \u001b[0;36mtraiter_donnees\u001b[1;34m(df)\u001b[0m\n\u001b[0;32m     17\u001b[0m \u001b[39m#jsplus pk j'ai fait ça\u001b[39;00m\n\u001b[0;32m     18\u001b[0m df\u001b[39m.\u001b[39mreset_index(drop\u001b[39m=\u001b[39m\u001b[39mTrue\u001b[39;00m, inplace\u001b[39m=\u001b[39m\u001b[39mTrue\u001b[39;00m)\n\u001b[1;32m---> 20\u001b[0m df[\u001b[39m'\u001b[39m\u001b[39mtimestamp\u001b[39m\u001b[39m'\u001b[39m] \u001b[39m=\u001b[39m pd\u001b[39m.\u001b[39mto_datetime(df[\u001b[39m'\u001b[39m\u001b[39mtimestamp\u001b[39m\u001b[39m'\u001b[39m], utc \u001b[39m=\u001b[39m \u001b[39mTrue\u001b[39;00m)\n\u001b[0;32m     21\u001b[0m df[\u001b[39m'\u001b[39m\u001b[39mtimestamp\u001b[39m\u001b[39m'\u001b[39m] \u001b[39m=\u001b[39m df[\u001b[39m'\u001b[39m\u001b[39mtimestamp\u001b[39m\u001b[39m'\u001b[39m]\u001b[39m.\u001b[39mdt\u001b[39m.\u001b[39mtz_convert(\u001b[39m'\u001b[39m\u001b[39mEurope/Paris\u001b[39m\u001b[39m'\u001b[39m)\n\u001b[0;32m     22\u001b[0m df[\u001b[39m'\u001b[39m\u001b[39mtimestamp\u001b[39m\u001b[39m'\u001b[39m] \u001b[39m=\u001b[39m df[\u001b[39m'\u001b[39m\u001b[39mtimestamp\u001b[39m\u001b[39m'\u001b[39m]\u001b[39m.\u001b[39mdt\u001b[39m.\u001b[39mtz_localize(\u001b[39mNone\u001b[39;00m)\n",
      "\u001b[1;31mNameError\u001b[0m: name 'pd' is not defined"
     ]
    }
   ],
   "source": [
    "df=traiter_donnees(df)"
   ]
  },
  {
   "cell_type": "code",
   "execution_count": null,
   "metadata": {},
   "outputs": [],
   "source": []
  }
 ],
 "metadata": {
  "kernelspec": {
   "display_name": "MachineLearning",
   "language": "python",
   "name": "python3"
  },
  "language_info": {
   "codemirror_mode": {
    "name": "ipython",
    "version": 3
   },
   "file_extension": ".py",
   "mimetype": "text/x-python",
   "name": "python",
   "nbconvert_exporter": "python",
   "pygments_lexer": "ipython3",
   "version": "3.10.8"
  }
 },
 "nbformat": 4,
 "nbformat_minor": 2
}
