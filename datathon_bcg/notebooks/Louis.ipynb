{
 "cells": [
  {
   "cell_type": "code",
   "execution_count": 6,
   "metadata": {},
   "outputs": [],
   "source": [
    "import matplotlib as plt\n",
    "import sys\n",
    "import pandas as pd\n",
    "sys.path.append(r\"C:\\Users\\louis\\OneDrive\\Documents\\CS\\BCG Datathon\\Datathon_BCG_colissiMONSTRE\\datathon_bcg\\module\")\n",
    "sys.path.append(r\"C:\\Users\\louis\\OneDrive\\Documents\\CS\\BCG Datathon\\Datathon_BCG_colissiMONSTRE\\datathon_bcg\\data\\csv\\champs\")\n",
    "\n",
    "from dataprep import traiter_donnees\n",
    "\n",
    "%load_ext autoreload\n",
    "%autoreload 2"
   ]
  },
  {
   "cell_type": "code",
   "execution_count": 3,
   "metadata": {},
   "outputs": [],
   "source": [
    "df=pd.read_csv(r\"C:\\Users\\louis\\OneDrive\\Documents\\CS\\BCG Datathon\\Datathon_BCG_colissiMONSTRE\\datathon_bcg\\data\\csv\\champs\\champs_2023.csv\", delimiter=';')"
   ]
  },
  {
   "cell_type": "code",
   "execution_count": 4,
   "metadata": {},
   "outputs": [],
   "source": [
    "df=traiter_donnees(df)"
   ]
  },
  {
   "cell_type": "code",
   "execution_count": 5,
   "metadata": {},
   "outputs": [
    {
     "data": {
      "text/html": [
       "<div>\n",
       "<style scoped>\n",
       "    .dataframe tbody tr th:only-of-type {\n",
       "        vertical-align: middle;\n",
       "    }\n",
       "\n",
       "    .dataframe tbody tr th {\n",
       "        vertical-align: top;\n",
       "    }\n",
       "\n",
       "    .dataframe thead th {\n",
       "        text-align: right;\n",
       "    }\n",
       "</style>\n",
       "<table border=\"1\" class=\"dataframe\">\n",
       "  <thead>\n",
       "    <tr style=\"text-align: right;\">\n",
       "      <th></th>\n",
       "      <th>Libelle</th>\n",
       "      <th>taux_occupation</th>\n",
       "      <th>etat_arc</th>\n",
       "      <th>debit_horaire</th>\n",
       "    </tr>\n",
       "    <tr>\n",
       "      <th>timestamp</th>\n",
       "      <th></th>\n",
       "      <th></th>\n",
       "      <th></th>\n",
       "      <th></th>\n",
       "    </tr>\n",
       "  </thead>\n",
       "  <tbody>\n",
       "    <tr>\n",
       "      <th>2023-01-01 00:00:00</th>\n",
       "      <td>AV_Champs_Elysees</td>\n",
       "      <td>NaN</td>\n",
       "      <td>Barré</td>\n",
       "      <td>3.0</td>\n",
       "    </tr>\n",
       "    <tr>\n",
       "      <th>2023-01-01 01:00:00</th>\n",
       "      <td>AV_Champs_Elysees</td>\n",
       "      <td>NaN</td>\n",
       "      <td>Barré</td>\n",
       "      <td>116.0</td>\n",
       "    </tr>\n",
       "    <tr>\n",
       "      <th>2023-01-01 02:00:00</th>\n",
       "      <td>AV_Champs_Elysees</td>\n",
       "      <td>34.44445</td>\n",
       "      <td>Invalide</td>\n",
       "      <td>534.0</td>\n",
       "    </tr>\n",
       "    <tr>\n",
       "      <th>2023-01-01 03:00:00</th>\n",
       "      <td>AV_Champs_Elysees</td>\n",
       "      <td>25.47389</td>\n",
       "      <td>Invalide</td>\n",
       "      <td>622.0</td>\n",
       "    </tr>\n",
       "    <tr>\n",
       "      <th>2023-01-01 04:00:00</th>\n",
       "      <td>AV_Champs_Elysees</td>\n",
       "      <td>26.02722</td>\n",
       "      <td>Invalide</td>\n",
       "      <td>756.0</td>\n",
       "    </tr>\n",
       "  </tbody>\n",
       "</table>\n",
       "</div>"
      ],
      "text/plain": [
       "                               Libelle  taux_occupation  etat_arc  \\\n",
       "timestamp                                                           \n",
       "2023-01-01 00:00:00  AV_Champs_Elysees              NaN     Barré   \n",
       "2023-01-01 01:00:00  AV_Champs_Elysees              NaN     Barré   \n",
       "2023-01-01 02:00:00  AV_Champs_Elysees         34.44445  Invalide   \n",
       "2023-01-01 03:00:00  AV_Champs_Elysees         25.47389  Invalide   \n",
       "2023-01-01 04:00:00  AV_Champs_Elysees         26.02722  Invalide   \n",
       "\n",
       "                     debit_horaire  \n",
       "timestamp                           \n",
       "2023-01-01 00:00:00            3.0  \n",
       "2023-01-01 01:00:00          116.0  \n",
       "2023-01-01 02:00:00          534.0  \n",
       "2023-01-01 03:00:00          622.0  \n",
       "2023-01-01 04:00:00          756.0  "
      ]
     },
     "execution_count": 5,
     "metadata": {},
     "output_type": "execute_result"
    }
   ],
   "source": [
    "df.head()"
   ]
  },
  {
   "cell_type": "code",
   "execution_count": 16,
   "metadata": {},
   "outputs": [
    {
     "name": "stdout",
     "output_type": "stream",
     "text": [
      "Le nombre de données manquantes dans la colonne 'taux_occupation' est : 0.016755521706016754\n",
      "Le nombre de données manquantes dans la colonne 'debit_horaire' est : 0.014597613607514598\n"
     ]
    }
   ],
   "source": [
    "# Compter les valeurs manquantes dans la colonne spécifiée\n",
    "nombre_de_donnees_manquantes = df[\"taux_occupation\"].isnull().sum()/len(df)\n",
    "\n",
    "print(f\"Le nombre de données manquantes dans la colonne '{'taux_occupation'}' est : {nombre_de_donnees_manquantes}\")\n",
    "\n",
    "nombre_de_donnees_manquantes = df[\"debit_horaire\"].isnull().sum()/len(df)\n",
    "\n",
    "print(f\"Le nombre de données manquantes dans la colonne '{'debit_horaire'}' est : {nombre_de_donnees_manquantes}\")"
   ]
  },
  {
   "cell_type": "code",
   "execution_count": 18,
   "metadata": {},
   "outputs": [
    {
     "ename": "NameError",
     "evalue": "name 'column' is not defined",
     "output_type": "error",
     "traceback": [
      "\u001b[1;31m---------------------------------------------------------------------------\u001b[0m",
      "\u001b[1;31mNameError\u001b[0m                                 Traceback (most recent call last)",
      "\u001b[1;32mc:\\Users\\louis\\OneDrive\\Documents\\CS\\BCG Datathon\\Datathon_BCG_colissiMONSTRE\\datathon_bcg\\notebooks\\Louis.ipynb Cell 6\u001b[0m line \u001b[0;36m1\n\u001b[1;32m----> <a href='vscode-notebook-cell:/c%3A/Users/louis/OneDrive/Documents/CS/BCG%20Datathon/Datathon_BCG_colissiMONSTRE/datathon_bcg/notebooks/Louis.ipynb#X10sZmlsZQ%3D%3D?line=0'>1</a>\u001b[0m daily_mean \u001b[39m=\u001b[39m df\u001b[39m.\u001b[39mloc[:,[column]]\u001b[39m.\u001b[39mresample(\u001b[39m'\u001b[39m\u001b[39mD\u001b[39m\u001b[39m'\u001b[39m)\u001b[39m.\u001b[39mmean()\n\u001b[0;32m      <a href='vscode-notebook-cell:/c%3A/Users/louis/OneDrive/Documents/CS/BCG%20Datathon/Datathon_BCG_colissiMONSTRE/datathon_bcg/notebooks/Louis.ipynb#X10sZmlsZQ%3D%3D?line=1'>2</a>\u001b[0m daily_mean\n",
      "\u001b[1;31mNameError\u001b[0m: name 'column' is not defined"
     ]
    }
   ],
   "source": []
  },
  {
   "cell_type": "code",
   "execution_count": null,
   "metadata": {},
   "outputs": [],
   "source": []
  }
 ],
 "metadata": {
  "kernelspec": {
   "display_name": "MachineLearning",
   "language": "python",
   "name": "python3"
  },
  "language_info": {
   "codemirror_mode": {
    "name": "ipython",
    "version": 3
   },
   "file_extension": ".py",
   "mimetype": "text/x-python",
   "name": "python",
   "nbconvert_exporter": "python",
   "pygments_lexer": "ipython3",
   "version": "3.10.8"
  }
 },
 "nbformat": 4,
 "nbformat_minor": 2
}
