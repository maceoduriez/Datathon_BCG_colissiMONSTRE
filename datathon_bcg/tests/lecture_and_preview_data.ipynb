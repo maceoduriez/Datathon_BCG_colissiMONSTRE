{
 "cells": [
  {
   "cell_type": "markdown",
   "metadata": {},
   "source": [
    "# petits graphiques en bas\n",
    "\n",
    "# Bilan de ce que j'ai fait dans ces deux fonctions : \n",
    "\n",
    "### traiter_donnees(df) : \n",
    "prend le dataframe tout sale que tu prends en csv via [open data parisØ](https://opendata.paris.fr/explore/dataset/comptages-routiers-permanents/export/?disjunctive.libelle&disjunctive.etat_trafic&disjunctive.libelle_nd_amont&disjunctive.libelle_nd_aval&sort=t_1h&refine.t_1h=2023&q=washington&q.timerange.t_1h=t_1h:%5B2016-12-31T23:00:00Z+TO+2023-12-31T22:59:59Z%5D&refine.libelle=AV_Champs_Elysees)  \n",
    "et renvoie le dataframe avec les dates en index pour bien tracer et sans utc et garde que les colonnes utiles\n",
    "\n",
    "### plot_daily_mean() : \n",
    "assez clair j'crois, faut mettre que des colonnes numériques pour que la conversion en moyenne par jour marche (donc pas etat arc, ni libelle)\n",
    "\n",
    "## valeurs manquantes : \n",
    "\n",
    "ratio de valeurs manquantes en 2023 pour le taux d'occupation: 0.016755521706016754\n",
    "\n",
    "ratio de valeurs manquantes en 2023 pour le débit horaire: 0.014597613607514598\n",
    "\n",
    "heures manquantes : 137 \n",
    "(J'ai pas regardé où)\n"
   ]
  },
  {
   "cell_type": "code",
   "execution_count": 1,
   "metadata": {},
   "outputs": [],
   "source": [
    "import pandas as pd\n",
    "import matplotlib.pyplot as plt"
   ]
  },
  {
   "cell_type": "code",
   "execution_count": 3,
   "metadata": {},
   "outputs": [],
   "source": [
    "def traiter_donnees(df): #bilan de ce qu'on a fait au dessus, sans prendre en compte l'état de l'arc pour l'instant\n",
    "\n",
    "    #tri par date\n",
    "    df = df.sort_values(by=['Date et heure de comptage'], ascending=True)\n",
    "\n",
    "    #on garde que les colonnes qui nous intéressent\n",
    "    colonnes_a_garder = ['Libelle', 'Date et heure de comptage','Taux d\\'occupation', 'Etat arc', 'Débit horaire']\n",
    "    df = df.loc[:,colonnes_a_garder]\n",
    "\n",
    "    #renommer les colonnes pour que ce soit pratique\n",
    "    df = df.rename(columns={'Date et heure de comptage': 'timestamp', 'Taux d\\'occupation': 'taux_occupation', 'Etat arc': 'etat_arc', 'Débit horaire': 'debit_horaire'})\n",
    "\n",
    "    #jsplus pk j'ai fait ça\n",
    "    df.reset_index(drop=True, inplace=True)\n",
    "\n",
    "    df['timestamp'] = pd.to_datetime(df['timestamp'], utc = True)\n",
    "    df['timestamp'] = df['timestamp'].dt.tz_convert('Europe/Paris')\n",
    "    df['timestamp'] = df['timestamp'].dt.tz_localize(None)\n",
    "    df.set_index('timestamp', inplace=True)\n",
    "    return df\n"
   ]
  },
  {
   "cell_type": "code",
   "execution_count": null,
   "metadata": {},
   "outputs": [],
   "source": [
    "def plot_daily_mean(df, column, title):\n",
    "    daily_mean = df.loc[:,[column]].resample('D').mean()\n",
    "    fig, ax = plt.subplots()\n",
    "    ax.plot(daily_mean.index, daily_mean[column], label=column)\n",
    "    ax.set_xlabel(\"Date\")\n",
    "    ax.set_title(title)\n",
    "    ax.legend()\n",
    "    plt.xticks(rotation=45)\n",
    "    plt.show()"
   ]
  },
  {
   "cell_type": "markdown",
   "metadata": {},
   "source": [
    "j'ai un peut tout fait dans l'ordre qui suit, y a pas grand chose à regarder"
   ]
  },
  {
   "cell_type": "code",
   "execution_count": 11,
   "metadata": {},
   "outputs": [
    {
     "ename": "FileNotFoundError",
     "evalue": "[Errno 2] No such file or directory: '../data/csv/champs/champs_2023.csv'",
     "output_type": "error",
     "traceback": [
      "\u001b[0;31m---------------------------------------------------------------------------\u001b[0m",
      "\u001b[0;31mFileNotFoundError\u001b[0m                         Traceback (most recent call last)",
      "\u001b[1;32m/Users/maceoduriez/Datathon_BCG_colissiMONSTRE/datathon_bcg/tests/lecture_and_preview_data.ipynb Cell 6\u001b[0m line \u001b[0;36m1\n\u001b[0;32m----> <a href='vscode-notebook-cell:/Users/maceoduriez/Datathon_BCG_colissiMONSTRE/datathon_bcg/tests/lecture_and_preview_data.ipynb#W5sZmlsZQ%3D%3D?line=0'>1</a>\u001b[0m champs_2023_df \u001b[39m=\u001b[39m pd\u001b[39m.\u001b[39;49mread_csv(\u001b[39m'\u001b[39;49m\u001b[39m../data/csv/champs/champs_2023.csv\u001b[39;49m\u001b[39m'\u001b[39;49m, delimiter\u001b[39m=\u001b[39;49m\u001b[39m'\u001b[39;49m\u001b[39m;\u001b[39;49m\u001b[39m'\u001b[39;49m)\n",
      "File \u001b[0;32m/Library/Frameworks/Python.framework/Versions/3.11/lib/python3.11/site-packages/pandas/io/parsers/readers.py:948\u001b[0m, in \u001b[0;36mread_csv\u001b[0;34m(filepath_or_buffer, sep, delimiter, header, names, index_col, usecols, dtype, engine, converters, true_values, false_values, skipinitialspace, skiprows, skipfooter, nrows, na_values, keep_default_na, na_filter, verbose, skip_blank_lines, parse_dates, infer_datetime_format, keep_date_col, date_parser, date_format, dayfirst, cache_dates, iterator, chunksize, compression, thousands, decimal, lineterminator, quotechar, quoting, doublequote, escapechar, comment, encoding, encoding_errors, dialect, on_bad_lines, delim_whitespace, low_memory, memory_map, float_precision, storage_options, dtype_backend)\u001b[0m\n\u001b[1;32m    935\u001b[0m kwds_defaults \u001b[39m=\u001b[39m _refine_defaults_read(\n\u001b[1;32m    936\u001b[0m     dialect,\n\u001b[1;32m    937\u001b[0m     delimiter,\n\u001b[0;32m   (...)\u001b[0m\n\u001b[1;32m    944\u001b[0m     dtype_backend\u001b[39m=\u001b[39mdtype_backend,\n\u001b[1;32m    945\u001b[0m )\n\u001b[1;32m    946\u001b[0m kwds\u001b[39m.\u001b[39mupdate(kwds_defaults)\n\u001b[0;32m--> 948\u001b[0m \u001b[39mreturn\u001b[39;00m _read(filepath_or_buffer, kwds)\n",
      "File \u001b[0;32m/Library/Frameworks/Python.framework/Versions/3.11/lib/python3.11/site-packages/pandas/io/parsers/readers.py:611\u001b[0m, in \u001b[0;36m_read\u001b[0;34m(filepath_or_buffer, kwds)\u001b[0m\n\u001b[1;32m    608\u001b[0m _validate_names(kwds\u001b[39m.\u001b[39mget(\u001b[39m\"\u001b[39m\u001b[39mnames\u001b[39m\u001b[39m\"\u001b[39m, \u001b[39mNone\u001b[39;00m))\n\u001b[1;32m    610\u001b[0m \u001b[39m# Create the parser.\u001b[39;00m\n\u001b[0;32m--> 611\u001b[0m parser \u001b[39m=\u001b[39m TextFileReader(filepath_or_buffer, \u001b[39m*\u001b[39;49m\u001b[39m*\u001b[39;49mkwds)\n\u001b[1;32m    613\u001b[0m \u001b[39mif\u001b[39;00m chunksize \u001b[39mor\u001b[39;00m iterator:\n\u001b[1;32m    614\u001b[0m     \u001b[39mreturn\u001b[39;00m parser\n",
      "File \u001b[0;32m/Library/Frameworks/Python.framework/Versions/3.11/lib/python3.11/site-packages/pandas/io/parsers/readers.py:1448\u001b[0m, in \u001b[0;36mTextFileReader.__init__\u001b[0;34m(self, f, engine, **kwds)\u001b[0m\n\u001b[1;32m   1445\u001b[0m     \u001b[39mself\u001b[39m\u001b[39m.\u001b[39moptions[\u001b[39m\"\u001b[39m\u001b[39mhas_index_names\u001b[39m\u001b[39m\"\u001b[39m] \u001b[39m=\u001b[39m kwds[\u001b[39m\"\u001b[39m\u001b[39mhas_index_names\u001b[39m\u001b[39m\"\u001b[39m]\n\u001b[1;32m   1447\u001b[0m \u001b[39mself\u001b[39m\u001b[39m.\u001b[39mhandles: IOHandles \u001b[39m|\u001b[39m \u001b[39mNone\u001b[39;00m \u001b[39m=\u001b[39m \u001b[39mNone\u001b[39;00m\n\u001b[0;32m-> 1448\u001b[0m \u001b[39mself\u001b[39m\u001b[39m.\u001b[39m_engine \u001b[39m=\u001b[39m \u001b[39mself\u001b[39;49m\u001b[39m.\u001b[39;49m_make_engine(f, \u001b[39mself\u001b[39;49m\u001b[39m.\u001b[39;49mengine)\n",
      "File \u001b[0;32m/Library/Frameworks/Python.framework/Versions/3.11/lib/python3.11/site-packages/pandas/io/parsers/readers.py:1705\u001b[0m, in \u001b[0;36mTextFileReader._make_engine\u001b[0;34m(self, f, engine)\u001b[0m\n\u001b[1;32m   1703\u001b[0m     \u001b[39mif\u001b[39;00m \u001b[39m\"\u001b[39m\u001b[39mb\u001b[39m\u001b[39m\"\u001b[39m \u001b[39mnot\u001b[39;00m \u001b[39min\u001b[39;00m mode:\n\u001b[1;32m   1704\u001b[0m         mode \u001b[39m+\u001b[39m\u001b[39m=\u001b[39m \u001b[39m\"\u001b[39m\u001b[39mb\u001b[39m\u001b[39m\"\u001b[39m\n\u001b[0;32m-> 1705\u001b[0m \u001b[39mself\u001b[39m\u001b[39m.\u001b[39mhandles \u001b[39m=\u001b[39m get_handle(\n\u001b[1;32m   1706\u001b[0m     f,\n\u001b[1;32m   1707\u001b[0m     mode,\n\u001b[1;32m   1708\u001b[0m     encoding\u001b[39m=\u001b[39;49m\u001b[39mself\u001b[39;49m\u001b[39m.\u001b[39;49moptions\u001b[39m.\u001b[39;49mget(\u001b[39m\"\u001b[39;49m\u001b[39mencoding\u001b[39;49m\u001b[39m\"\u001b[39;49m, \u001b[39mNone\u001b[39;49;00m),\n\u001b[1;32m   1709\u001b[0m     compression\u001b[39m=\u001b[39;49m\u001b[39mself\u001b[39;49m\u001b[39m.\u001b[39;49moptions\u001b[39m.\u001b[39;49mget(\u001b[39m\"\u001b[39;49m\u001b[39mcompression\u001b[39;49m\u001b[39m\"\u001b[39;49m, \u001b[39mNone\u001b[39;49;00m),\n\u001b[1;32m   1710\u001b[0m     memory_map\u001b[39m=\u001b[39;49m\u001b[39mself\u001b[39;49m\u001b[39m.\u001b[39;49moptions\u001b[39m.\u001b[39;49mget(\u001b[39m\"\u001b[39;49m\u001b[39mmemory_map\u001b[39;49m\u001b[39m\"\u001b[39;49m, \u001b[39mFalse\u001b[39;49;00m),\n\u001b[1;32m   1711\u001b[0m     is_text\u001b[39m=\u001b[39;49mis_text,\n\u001b[1;32m   1712\u001b[0m     errors\u001b[39m=\u001b[39;49m\u001b[39mself\u001b[39;49m\u001b[39m.\u001b[39;49moptions\u001b[39m.\u001b[39;49mget(\u001b[39m\"\u001b[39;49m\u001b[39mencoding_errors\u001b[39;49m\u001b[39m\"\u001b[39;49m, \u001b[39m\"\u001b[39;49m\u001b[39mstrict\u001b[39;49m\u001b[39m\"\u001b[39;49m),\n\u001b[1;32m   1713\u001b[0m     storage_options\u001b[39m=\u001b[39;49m\u001b[39mself\u001b[39;49m\u001b[39m.\u001b[39;49moptions\u001b[39m.\u001b[39;49mget(\u001b[39m\"\u001b[39;49m\u001b[39mstorage_options\u001b[39;49m\u001b[39m\"\u001b[39;49m, \u001b[39mNone\u001b[39;49;00m),\n\u001b[1;32m   1714\u001b[0m )\n\u001b[1;32m   1715\u001b[0m \u001b[39massert\u001b[39;00m \u001b[39mself\u001b[39m\u001b[39m.\u001b[39mhandles \u001b[39mis\u001b[39;00m \u001b[39mnot\u001b[39;00m \u001b[39mNone\u001b[39;00m\n\u001b[1;32m   1716\u001b[0m f \u001b[39m=\u001b[39m \u001b[39mself\u001b[39m\u001b[39m.\u001b[39mhandles\u001b[39m.\u001b[39mhandle\n",
      "File \u001b[0;32m/Library/Frameworks/Python.framework/Versions/3.11/lib/python3.11/site-packages/pandas/io/common.py:863\u001b[0m, in \u001b[0;36mget_handle\u001b[0;34m(path_or_buf, mode, encoding, compression, memory_map, is_text, errors, storage_options)\u001b[0m\n\u001b[1;32m    858\u001b[0m \u001b[39melif\u001b[39;00m \u001b[39misinstance\u001b[39m(handle, \u001b[39mstr\u001b[39m):\n\u001b[1;32m    859\u001b[0m     \u001b[39m# Check whether the filename is to be opened in binary mode.\u001b[39;00m\n\u001b[1;32m    860\u001b[0m     \u001b[39m# Binary mode does not support 'encoding' and 'newline'.\u001b[39;00m\n\u001b[1;32m    861\u001b[0m     \u001b[39mif\u001b[39;00m ioargs\u001b[39m.\u001b[39mencoding \u001b[39mand\u001b[39;00m \u001b[39m\"\u001b[39m\u001b[39mb\u001b[39m\u001b[39m\"\u001b[39m \u001b[39mnot\u001b[39;00m \u001b[39min\u001b[39;00m ioargs\u001b[39m.\u001b[39mmode:\n\u001b[1;32m    862\u001b[0m         \u001b[39m# Encoding\u001b[39;00m\n\u001b[0;32m--> 863\u001b[0m         handle \u001b[39m=\u001b[39m \u001b[39mopen\u001b[39;49m(\n\u001b[1;32m    864\u001b[0m             handle,\n\u001b[1;32m    865\u001b[0m             ioargs\u001b[39m.\u001b[39;49mmode,\n\u001b[1;32m    866\u001b[0m             encoding\u001b[39m=\u001b[39;49mioargs\u001b[39m.\u001b[39;49mencoding,\n\u001b[1;32m    867\u001b[0m             errors\u001b[39m=\u001b[39;49merrors,\n\u001b[1;32m    868\u001b[0m             newline\u001b[39m=\u001b[39;49m\u001b[39m\"\u001b[39;49m\u001b[39m\"\u001b[39;49m,\n\u001b[1;32m    869\u001b[0m         )\n\u001b[1;32m    870\u001b[0m     \u001b[39melse\u001b[39;00m:\n\u001b[1;32m    871\u001b[0m         \u001b[39m# Binary mode\u001b[39;00m\n\u001b[1;32m    872\u001b[0m         handle \u001b[39m=\u001b[39m \u001b[39mopen\u001b[39m(handle, ioargs\u001b[39m.\u001b[39mmode)\n",
      "\u001b[0;31mFileNotFoundError\u001b[0m: [Errno 2] No such file or directory: '../data/csv/champs/champs_2023.csv'"
     ]
    }
   ],
   "source": [
    "champs_2023_df = pd.read_csv('../data/csv/champs/champs_2023.csv', delimiter=';')"
   ]
  },
  {
   "cell_type": "code",
   "execution_count": 10,
   "metadata": {},
   "outputs": [
    {
     "ename": "NameError",
     "evalue": "name 'champs_2023_df' is not defined",
     "output_type": "error",
     "traceback": [
      "\u001b[0;31m---------------------------------------------------------------------------\u001b[0m",
      "\u001b[0;31mNameError\u001b[0m                                 Traceback (most recent call last)",
      "\u001b[1;32m/Users/maceoduriez/Datathon_BCG_colissiMONSTRE/datathon_bcg/tests/lecture_and_preview_data.ipynb Cell 7\u001b[0m line \u001b[0;36m1\n\u001b[0;32m----> <a href='vscode-notebook-cell:/Users/maceoduriez/Datathon_BCG_colissiMONSTRE/datathon_bcg/tests/lecture_and_preview_data.ipynb#X40sZmlsZQ%3D%3D?line=0'>1</a>\u001b[0m champs_2023_df_arc_191 \u001b[39m=\u001b[39m champs_2023_df\u001b[39m.\u001b[39mloc[champs_2023_df[\u001b[39m'\u001b[39m\u001b[39mIdentifiant arc\u001b[39m\u001b[39m'\u001b[39m] \u001b[39m==\u001b[39m \u001b[39m191\u001b[39m]\n",
      "\u001b[0;31mNameError\u001b[0m: name 'champs_2023_df' is not defined"
     ]
    }
   ],
   "source": [
    "champs_2023_df_arc_191 = champs_2023_df.loc[champs_2023_df['Identifiant arc'] == 191]"
   ]
  },
  {
   "cell_type": "code",
   "execution_count": 5,
   "metadata": {},
   "outputs": [],
   "source": [
    "champs_2023_df_traite = traiter_donnees(champs_2023_df)"
   ]
  },
  {
   "cell_type": "code",
   "execution_count": 7,
   "metadata": {},
   "outputs": [
    {
     "data": {
      "text/html": [
       "<div>\n",
       "<style scoped>\n",
       "    .dataframe tbody tr th:only-of-type {\n",
       "        vertical-align: middle;\n",
       "    }\n",
       "\n",
       "    .dataframe tbody tr th {\n",
       "        vertical-align: top;\n",
       "    }\n",
       "\n",
       "    .dataframe thead th {\n",
       "        text-align: right;\n",
       "    }\n",
       "</style>\n",
       "<table border=\"1\" class=\"dataframe\">\n",
       "  <thead>\n",
       "    <tr style=\"text-align: right;\">\n",
       "      <th></th>\n",
       "      <th>Libelle</th>\n",
       "      <th>taux_occupation</th>\n",
       "      <th>etat_arc</th>\n",
       "      <th>debit_horaire</th>\n",
       "    </tr>\n",
       "    <tr>\n",
       "      <th>timestamp</th>\n",
       "      <th></th>\n",
       "      <th></th>\n",
       "      <th></th>\n",
       "      <th></th>\n",
       "    </tr>\n",
       "  </thead>\n",
       "  <tbody>\n",
       "    <tr>\n",
       "      <th>2023-01-01 00:00:00</th>\n",
       "      <td>AV_Champs_Elysees</td>\n",
       "      <td>NaN</td>\n",
       "      <td>Barré</td>\n",
       "      <td>3.0</td>\n",
       "    </tr>\n",
       "    <tr>\n",
       "      <th>2023-01-01 01:00:00</th>\n",
       "      <td>AV_Champs_Elysees</td>\n",
       "      <td>NaN</td>\n",
       "      <td>Barré</td>\n",
       "      <td>116.0</td>\n",
       "    </tr>\n",
       "    <tr>\n",
       "      <th>2023-01-01 02:00:00</th>\n",
       "      <td>AV_Champs_Elysees</td>\n",
       "      <td>34.44445</td>\n",
       "      <td>Invalide</td>\n",
       "      <td>534.0</td>\n",
       "    </tr>\n",
       "  </tbody>\n",
       "</table>\n",
       "</div>"
      ],
      "text/plain": [
       "                               Libelle  taux_occupation  etat_arc  \\\n",
       "timestamp                                                           \n",
       "2023-01-01 00:00:00  AV_Champs_Elysees              NaN     Barré   \n",
       "2023-01-01 01:00:00  AV_Champs_Elysees              NaN     Barré   \n",
       "2023-01-01 02:00:00  AV_Champs_Elysees         34.44445  Invalide   \n",
       "\n",
       "                     debit_horaire  \n",
       "timestamp                           \n",
       "2023-01-01 00:00:00            3.0  \n",
       "2023-01-01 01:00:00          116.0  \n",
       "2023-01-01 02:00:00          534.0  "
      ]
     },
     "execution_count": 7,
     "metadata": {},
     "output_type": "execute_result"
    }
   ],
   "source": [
    "champs_2023_df_traite.iloc[:3]"
   ]
  },
  {
   "cell_type": "code",
   "execution_count": 9,
   "metadata": {},
   "outputs": [
    {
     "data": {
      "text/html": [
       "<div>\n",
       "<style scoped>\n",
       "    .dataframe tbody tr th:only-of-type {\n",
       "        vertical-align: middle;\n",
       "    }\n",
       "\n",
       "    .dataframe tbody tr th {\n",
       "        vertical-align: top;\n",
       "    }\n",
       "\n",
       "    .dataframe thead th {\n",
       "        text-align: right;\n",
       "    }\n",
       "</style>\n",
       "<table border=\"1\" class=\"dataframe\">\n",
       "  <thead>\n",
       "    <tr style=\"text-align: right;\">\n",
       "      <th></th>\n",
       "      <th>Libelle</th>\n",
       "      <th>taux_occupation</th>\n",
       "      <th>etat_arc</th>\n",
       "      <th>debit_horaire</th>\n",
       "    </tr>\n",
       "    <tr>\n",
       "      <th>timestamp</th>\n",
       "      <th></th>\n",
       "      <th></th>\n",
       "      <th></th>\n",
       "      <th></th>\n",
       "    </tr>\n",
       "  </thead>\n",
       "  <tbody>\n",
       "    <tr>\n",
       "      <th>2023-11-30 22:00:00</th>\n",
       "      <td>AV_Champs_Elysees</td>\n",
       "      <td>20.40723</td>\n",
       "      <td>Invalide</td>\n",
       "      <td>1069.0</td>\n",
       "    </tr>\n",
       "    <tr>\n",
       "      <th>2023-11-30 23:00:00</th>\n",
       "      <td>AV_Champs_Elysees</td>\n",
       "      <td>16.66334</td>\n",
       "      <td>Invalide</td>\n",
       "      <td>950.0</td>\n",
       "    </tr>\n",
       "  </tbody>\n",
       "</table>\n",
       "</div>"
      ],
      "text/plain": [
       "                               Libelle  taux_occupation  etat_arc  \\\n",
       "timestamp                                                           \n",
       "2023-11-30 22:00:00  AV_Champs_Elysees         20.40723  Invalide   \n",
       "2023-11-30 23:00:00  AV_Champs_Elysees         16.66334  Invalide   \n",
       "\n",
       "                     debit_horaire  \n",
       "timestamp                           \n",
       "2023-11-30 22:00:00         1069.0  \n",
       "2023-11-30 23:00:00          950.0  "
      ]
     },
     "execution_count": 9,
     "metadata": {},
     "output_type": "execute_result"
    }
   ],
   "source": [
    "champs_2023_df_traite.iloc[-3:-1]"
   ]
  },
  {
   "cell_type": "code",
   "execution_count": 15,
   "metadata": {},
   "outputs": [
    {
     "data": {
      "text/plain": [
       "137"
      ]
     },
     "execution_count": 15,
     "metadata": {},
     "output_type": "execute_result"
    }
   ],
   "source": [
    "heures_missing = 24*334 - len(champs_2023_df_traite) -1 #changement d'heure d'été\n",
    "heures_missing"
   ]
  },
  {
   "cell_type": "code",
   "execution_count": 6,
   "metadata": {},
   "outputs": [
    {
     "data": {
      "text/html": [
       "<div>\n",
       "<style scoped>\n",
       "    .dataframe tbody tr th:only-of-type {\n",
       "        vertical-align: middle;\n",
       "    }\n",
       "\n",
       "    .dataframe tbody tr th {\n",
       "        vertical-align: top;\n",
       "    }\n",
       "\n",
       "    .dataframe thead th {\n",
       "        text-align: right;\n",
       "    }\n",
       "</style>\n",
       "<table border=\"1\" class=\"dataframe\">\n",
       "  <thead>\n",
       "    <tr style=\"text-align: right;\">\n",
       "      <th></th>\n",
       "      <th>Identifiant arc</th>\n",
       "      <th>Libelle</th>\n",
       "      <th>Date et heure de comptage</th>\n",
       "      <th>Débit horaire</th>\n",
       "      <th>Taux d'occupation</th>\n",
       "      <th>Etat trafic</th>\n",
       "      <th>Identifiant noeud amont</th>\n",
       "      <th>Libelle noeud amont</th>\n",
       "      <th>Identifiant noeud aval</th>\n",
       "      <th>Libelle noeud aval</th>\n",
       "      <th>Etat arc</th>\n",
       "      <th>Date debut dispo data</th>\n",
       "      <th>Date fin dispo data</th>\n",
       "      <th>geo_point_2d</th>\n",
       "      <th>geo_shape</th>\n",
       "    </tr>\n",
       "  </thead>\n",
       "  <tbody>\n",
       "    <tr>\n",
       "      <th>0</th>\n",
       "      <td>4264</td>\n",
       "      <td>AV_Champs_Elysees</td>\n",
       "      <td>2023-02-01T23:00:00+01:00</td>\n",
       "      <td>764.0</td>\n",
       "      <td>11.28000</td>\n",
       "      <td>Fluide</td>\n",
       "      <td>2294</td>\n",
       "      <td>Av_Champs_Elysees-Washington</td>\n",
       "      <td>2293</td>\n",
       "      <td>Av_Champs_Elysees-Berri</td>\n",
       "      <td>Invalide</td>\n",
       "      <td>2005-01-01</td>\n",
       "      <td>2019-06-01</td>\n",
       "      <td>48.87153587897717, 2.3017227924560615</td>\n",
       "      <td>{\"coordinates\": [[2.3009951475338766, 48.87177...</td>\n",
       "    </tr>\n",
       "    <tr>\n",
       "      <th>1</th>\n",
       "      <td>4264</td>\n",
       "      <td>AV_Champs_Elysees</td>\n",
       "      <td>2023-02-01T22:00:00+01:00</td>\n",
       "      <td>819.0</td>\n",
       "      <td>16.52056</td>\n",
       "      <td>Pré-saturé</td>\n",
       "      <td>2294</td>\n",
       "      <td>Av_Champs_Elysees-Washington</td>\n",
       "      <td>2293</td>\n",
       "      <td>Av_Champs_Elysees-Berri</td>\n",
       "      <td>Invalide</td>\n",
       "      <td>2005-01-01</td>\n",
       "      <td>2019-06-01</td>\n",
       "      <td>48.87153587897717, 2.3017227924560615</td>\n",
       "      <td>{\"coordinates\": [[2.3009951475338766, 48.87177...</td>\n",
       "    </tr>\n",
       "    <tr>\n",
       "      <th>2</th>\n",
       "      <td>4264</td>\n",
       "      <td>AV_Champs_Elysees</td>\n",
       "      <td>2023-02-01T20:00:00+01:00</td>\n",
       "      <td>1082.0</td>\n",
       "      <td>19.98722</td>\n",
       "      <td>Pré-saturé</td>\n",
       "      <td>2294</td>\n",
       "      <td>Av_Champs_Elysees-Washington</td>\n",
       "      <td>2293</td>\n",
       "      <td>Av_Champs_Elysees-Berri</td>\n",
       "      <td>Invalide</td>\n",
       "      <td>2005-01-01</td>\n",
       "      <td>2019-06-01</td>\n",
       "      <td>48.87153587897717, 2.3017227924560615</td>\n",
       "      <td>{\"coordinates\": [[2.3009951475338766, 48.87177...</td>\n",
       "    </tr>\n",
       "    <tr>\n",
       "      <th>3</th>\n",
       "      <td>4264</td>\n",
       "      <td>AV_Champs_Elysees</td>\n",
       "      <td>2023-02-01T18:00:00+01:00</td>\n",
       "      <td>1027.0</td>\n",
       "      <td>23.27334</td>\n",
       "      <td>Pré-saturé</td>\n",
       "      <td>2294</td>\n",
       "      <td>Av_Champs_Elysees-Washington</td>\n",
       "      <td>2293</td>\n",
       "      <td>Av_Champs_Elysees-Berri</td>\n",
       "      <td>Invalide</td>\n",
       "      <td>2005-01-01</td>\n",
       "      <td>2019-06-01</td>\n",
       "      <td>48.87153587897717, 2.3017227924560615</td>\n",
       "      <td>{\"coordinates\": [[2.3009951475338766, 48.87177...</td>\n",
       "    </tr>\n",
       "    <tr>\n",
       "      <th>4</th>\n",
       "      <td>4264</td>\n",
       "      <td>AV_Champs_Elysees</td>\n",
       "      <td>2023-10-04T06:00:00+02:00</td>\n",
       "      <td>364.0</td>\n",
       "      <td>4.13500</td>\n",
       "      <td>Fluide</td>\n",
       "      <td>2294</td>\n",
       "      <td>Av_Champs_Elysees-Washington</td>\n",
       "      <td>2293</td>\n",
       "      <td>Av_Champs_Elysees-Berri</td>\n",
       "      <td>Invalide</td>\n",
       "      <td>1996-10-10</td>\n",
       "      <td>2023-01-01</td>\n",
       "      <td>48.87153587897717, 2.3017227924560615</td>\n",
       "      <td>{\"coordinates\": [[2.3009951475338766, 48.87177...</td>\n",
       "    </tr>\n",
       "  </tbody>\n",
       "</table>\n",
       "</div>"
      ],
      "text/plain": [
       "   Identifiant arc            Libelle  Date et heure de comptage  \\\n",
       "0             4264  AV_Champs_Elysees  2023-02-01T23:00:00+01:00   \n",
       "1             4264  AV_Champs_Elysees  2023-02-01T22:00:00+01:00   \n",
       "2             4264  AV_Champs_Elysees  2023-02-01T20:00:00+01:00   \n",
       "3             4264  AV_Champs_Elysees  2023-02-01T18:00:00+01:00   \n",
       "4             4264  AV_Champs_Elysees  2023-10-04T06:00:00+02:00   \n",
       "\n",
       "   Débit horaire  Taux d'occupation Etat trafic  Identifiant noeud amont  \\\n",
       "0          764.0           11.28000      Fluide                     2294   \n",
       "1          819.0           16.52056  Pré-saturé                     2294   \n",
       "2         1082.0           19.98722  Pré-saturé                     2294   \n",
       "3         1027.0           23.27334  Pré-saturé                     2294   \n",
       "4          364.0            4.13500      Fluide                     2294   \n",
       "\n",
       "            Libelle noeud amont  Identifiant noeud aval  \\\n",
       "0  Av_Champs_Elysees-Washington                    2293   \n",
       "1  Av_Champs_Elysees-Washington                    2293   \n",
       "2  Av_Champs_Elysees-Washington                    2293   \n",
       "3  Av_Champs_Elysees-Washington                    2293   \n",
       "4  Av_Champs_Elysees-Washington                    2293   \n",
       "\n",
       "        Libelle noeud aval  Etat arc Date debut dispo data  \\\n",
       "0  Av_Champs_Elysees-Berri  Invalide            2005-01-01   \n",
       "1  Av_Champs_Elysees-Berri  Invalide            2005-01-01   \n",
       "2  Av_Champs_Elysees-Berri  Invalide            2005-01-01   \n",
       "3  Av_Champs_Elysees-Berri  Invalide            2005-01-01   \n",
       "4  Av_Champs_Elysees-Berri  Invalide            1996-10-10   \n",
       "\n",
       "  Date fin dispo data                           geo_point_2d  \\\n",
       "0          2019-06-01  48.87153587897717, 2.3017227924560615   \n",
       "1          2019-06-01  48.87153587897717, 2.3017227924560615   \n",
       "2          2019-06-01  48.87153587897717, 2.3017227924560615   \n",
       "3          2019-06-01  48.87153587897717, 2.3017227924560615   \n",
       "4          2023-01-01  48.87153587897717, 2.3017227924560615   \n",
       "\n",
       "                                           geo_shape  \n",
       "0  {\"coordinates\": [[2.3009951475338766, 48.87177...  \n",
       "1  {\"coordinates\": [[2.3009951475338766, 48.87177...  \n",
       "2  {\"coordinates\": [[2.3009951475338766, 48.87177...  \n",
       "3  {\"coordinates\": [[2.3009951475338766, 48.87177...  \n",
       "4  {\"coordinates\": [[2.3009951475338766, 48.87177...  "
      ]
     },
     "execution_count": 6,
     "metadata": {},
     "output_type": "execute_result"
    }
   ],
   "source": [
    "champs_2023_df.head()"
   ]
  },
  {
   "cell_type": "markdown",
   "metadata": {},
   "source": [
    "C'est le bordel niveau dates au début"
   ]
  },
  {
   "cell_type": "code",
   "execution_count": 7,
   "metadata": {},
   "outputs": [],
   "source": [
    "champs_2023_df_sorted = champs_2023_df.sort_values(by=['Date et heure de comptage'], ascending=True)"
   ]
  },
  {
   "cell_type": "code",
   "execution_count": 11,
   "metadata": {},
   "outputs": [
    {
     "data": {
      "text/html": [
       "<div>\n",
       "<style scoped>\n",
       "    .dataframe tbody tr th:only-of-type {\n",
       "        vertical-align: middle;\n",
       "    }\n",
       "\n",
       "    .dataframe tbody tr th {\n",
       "        vertical-align: top;\n",
       "    }\n",
       "\n",
       "    .dataframe thead th {\n",
       "        text-align: right;\n",
       "    }\n",
       "</style>\n",
       "<table border=\"1\" class=\"dataframe\">\n",
       "  <thead>\n",
       "    <tr style=\"text-align: right;\">\n",
       "      <th></th>\n",
       "      <th>Identifiant arc</th>\n",
       "      <th>Libelle</th>\n",
       "      <th>Date et heure de comptage</th>\n",
       "      <th>Débit horaire</th>\n",
       "      <th>Taux d'occupation</th>\n",
       "      <th>Etat trafic</th>\n",
       "      <th>Identifiant noeud amont</th>\n",
       "      <th>Libelle noeud amont</th>\n",
       "      <th>Identifiant noeud aval</th>\n",
       "      <th>Libelle noeud aval</th>\n",
       "      <th>Etat arc</th>\n",
       "      <th>Date debut dispo data</th>\n",
       "      <th>Date fin dispo data</th>\n",
       "      <th>geo_point_2d</th>\n",
       "      <th>geo_shape</th>\n",
       "    </tr>\n",
       "  </thead>\n",
       "  <tbody>\n",
       "    <tr>\n",
       "      <th>7727</th>\n",
       "      <td>4264</td>\n",
       "      <td>AV_Champs_Elysees</td>\n",
       "      <td>2023-01-01T00:00:00+01:00</td>\n",
       "      <td>3.0</td>\n",
       "      <td>NaN</td>\n",
       "      <td>Inconnu</td>\n",
       "      <td>2294</td>\n",
       "      <td>Av_Champs_Elysees-Washington</td>\n",
       "      <td>2293</td>\n",
       "      <td>Av_Champs_Elysees-Berri</td>\n",
       "      <td>Barré</td>\n",
       "      <td>2005-01-01</td>\n",
       "      <td>2019-06-01</td>\n",
       "      <td>48.87153587897717, 2.3017227924560615</td>\n",
       "      <td>{\"coordinates\": [[2.3009951475338766, 48.87177...</td>\n",
       "    </tr>\n",
       "    <tr>\n",
       "      <th>7678</th>\n",
       "      <td>4264</td>\n",
       "      <td>AV_Champs_Elysees</td>\n",
       "      <td>2023-01-01T01:00:00+01:00</td>\n",
       "      <td>116.0</td>\n",
       "      <td>NaN</td>\n",
       "      <td>Inconnu</td>\n",
       "      <td>2294</td>\n",
       "      <td>Av_Champs_Elysees-Washington</td>\n",
       "      <td>2293</td>\n",
       "      <td>Av_Champs_Elysees-Berri</td>\n",
       "      <td>Barré</td>\n",
       "      <td>2005-01-01</td>\n",
       "      <td>2019-06-01</td>\n",
       "      <td>48.87153587897717, 2.3017227924560615</td>\n",
       "      <td>{\"coordinates\": [[2.3009951475338766, 48.87177...</td>\n",
       "    </tr>\n",
       "    <tr>\n",
       "      <th>7679</th>\n",
       "      <td>4264</td>\n",
       "      <td>AV_Champs_Elysees</td>\n",
       "      <td>2023-01-01T02:00:00+01:00</td>\n",
       "      <td>534.0</td>\n",
       "      <td>34.44445</td>\n",
       "      <td>Saturé</td>\n",
       "      <td>2294</td>\n",
       "      <td>Av_Champs_Elysees-Washington</td>\n",
       "      <td>2293</td>\n",
       "      <td>Av_Champs_Elysees-Berri</td>\n",
       "      <td>Invalide</td>\n",
       "      <td>2005-01-01</td>\n",
       "      <td>2019-06-01</td>\n",
       "      <td>48.87153587897717, 2.3017227924560615</td>\n",
       "      <td>{\"coordinates\": [[2.3009951475338766, 48.87177...</td>\n",
       "    </tr>\n",
       "  </tbody>\n",
       "</table>\n",
       "</div>"
      ],
      "text/plain": [
       "      Identifiant arc            Libelle  Date et heure de comptage  \\\n",
       "7727             4264  AV_Champs_Elysees  2023-01-01T00:00:00+01:00   \n",
       "7678             4264  AV_Champs_Elysees  2023-01-01T01:00:00+01:00   \n",
       "7679             4264  AV_Champs_Elysees  2023-01-01T02:00:00+01:00   \n",
       "\n",
       "      Débit horaire  Taux d'occupation Etat trafic  Identifiant noeud amont  \\\n",
       "7727            3.0                NaN     Inconnu                     2294   \n",
       "7678          116.0                NaN     Inconnu                     2294   \n",
       "7679          534.0           34.44445      Saturé                     2294   \n",
       "\n",
       "               Libelle noeud amont  Identifiant noeud aval  \\\n",
       "7727  Av_Champs_Elysees-Washington                    2293   \n",
       "7678  Av_Champs_Elysees-Washington                    2293   \n",
       "7679  Av_Champs_Elysees-Washington                    2293   \n",
       "\n",
       "           Libelle noeud aval  Etat arc Date debut dispo data  \\\n",
       "7727  Av_Champs_Elysees-Berri     Barré            2005-01-01   \n",
       "7678  Av_Champs_Elysees-Berri     Barré            2005-01-01   \n",
       "7679  Av_Champs_Elysees-Berri  Invalide            2005-01-01   \n",
       "\n",
       "     Date fin dispo data                           geo_point_2d  \\\n",
       "7727          2019-06-01  48.87153587897717, 2.3017227924560615   \n",
       "7678          2019-06-01  48.87153587897717, 2.3017227924560615   \n",
       "7679          2019-06-01  48.87153587897717, 2.3017227924560615   \n",
       "\n",
       "                                              geo_shape  \n",
       "7727  {\"coordinates\": [[2.3009951475338766, 48.87177...  \n",
       "7678  {\"coordinates\": [[2.3009951475338766, 48.87177...  \n",
       "7679  {\"coordinates\": [[2.3009951475338766, 48.87177...  "
      ]
     },
     "execution_count": 11,
     "metadata": {},
     "output_type": "execute_result"
    }
   ],
   "source": [
    "champs_2023_df_sorted.iloc[0:3]"
   ]
  },
  {
   "cell_type": "code",
   "execution_count": 10,
   "metadata": {},
   "outputs": [
    {
     "data": {
      "text/plain": [
       "array(['Barré', 'Invalide'], dtype=object)"
      ]
     },
     "execution_count": 10,
     "metadata": {},
     "output_type": "execute_result"
    }
   ],
   "source": [
    "types_d_etats = champs_2023_df_sorted['Etat arc'].unique()\n",
    "types_d_etats"
   ]
  },
  {
   "cell_type": "code",
   "execution_count": 176,
   "metadata": {},
   "outputs": [],
   "source": [
    "colonnes_a_garder = ['Libelle', 'Date et heure de comptage','Taux d\\'occupation', 'Etat arc', 'Débit horaire']\n",
    "champs_2023_df_sorted_reduced = champs_2023_df_sorted.loc[:,colonnes_a_garder]"
   ]
  },
  {
   "cell_type": "code",
   "execution_count": 177,
   "metadata": {},
   "outputs": [],
   "source": [
    "champs_2023_df_sorted_reduced = champs_2023_df_sorted_reduced.rename(columns={'Date et heure de comptage': 'timestamp', 'Taux d\\'occupation': 'taux_occupation', 'Etat arc': 'etat_arc', 'Débit horaire': 'debit_horaire'})\n"
   ]
  },
  {
   "cell_type": "code",
   "execution_count": 178,
   "metadata": {},
   "outputs": [],
   "source": [
    "# Clean index\n",
    "\n",
    "champs_2023_df_sorted_reduced.reset_index(drop=True, inplace=True)\n"
   ]
  },
  {
   "cell_type": "code",
   "execution_count": 179,
   "metadata": {},
   "outputs": [],
   "source": [
    "#drop l'utc pour tracer les courbes\n",
    "\n",
    "champs_2023_df_sorted_reduced['timestamp'] = pd.to_datetime(champs_2023_df_sorted_reduced['timestamp'], utc = True)\n",
    "champs_2023_df_sorted_reduced['timestamp'] = champs_2023_df_sorted_reduced['timestamp'].dt.tz_convert('Europe/Paris')\n",
    "champs_2023_df_sorted_reduced['timestamp'] = champs_2023_df_sorted_reduced['timestamp'].dt.tz_localize(None)\n"
   ]
  },
  {
   "cell_type": "code",
   "execution_count": 186,
   "metadata": {},
   "outputs": [
    {
     "data": {
      "text/html": [
       "<div>\n",
       "<style scoped>\n",
       "    .dataframe tbody tr th:only-of-type {\n",
       "        vertical-align: middle;\n",
       "    }\n",
       "\n",
       "    .dataframe tbody tr th {\n",
       "        vertical-align: top;\n",
       "    }\n",
       "\n",
       "    .dataframe thead th {\n",
       "        text-align: right;\n",
       "    }\n",
       "</style>\n",
       "<table border=\"1\" class=\"dataframe\">\n",
       "  <thead>\n",
       "    <tr style=\"text-align: right;\">\n",
       "      <th></th>\n",
       "      <th>Libelle</th>\n",
       "      <th>timestamp</th>\n",
       "      <th>taux_occupation</th>\n",
       "      <th>etat_arc</th>\n",
       "      <th>debit_horaire</th>\n",
       "    </tr>\n",
       "  </thead>\n",
       "  <tbody>\n",
       "    <tr>\n",
       "      <th>2003</th>\n",
       "      <td>AV_Champs_Elysees</td>\n",
       "      <td>2023-03-26 00:00:00</td>\n",
       "      <td>15.43722</td>\n",
       "      <td>Invalide</td>\n",
       "      <td>974.0</td>\n",
       "    </tr>\n",
       "    <tr>\n",
       "      <th>2004</th>\n",
       "      <td>AV_Champs_Elysees</td>\n",
       "      <td>2023-03-26 01:00:00</td>\n",
       "      <td>15.90278</td>\n",
       "      <td>Invalide</td>\n",
       "      <td>942.0</td>\n",
       "    </tr>\n",
       "    <tr>\n",
       "      <th>2005</th>\n",
       "      <td>AV_Champs_Elysees</td>\n",
       "      <td>2023-03-26 03:00:00</td>\n",
       "      <td>NaN</td>\n",
       "      <td>Invalide</td>\n",
       "      <td>NaN</td>\n",
       "    </tr>\n",
       "    <tr>\n",
       "      <th>2006</th>\n",
       "      <td>AV_Champs_Elysees</td>\n",
       "      <td>2023-03-26 04:00:00</td>\n",
       "      <td>6.17111</td>\n",
       "      <td>Invalide</td>\n",
       "      <td>544.0</td>\n",
       "    </tr>\n",
       "  </tbody>\n",
       "</table>\n",
       "</div>"
      ],
      "text/plain": [
       "                Libelle           timestamp  taux_occupation  etat_arc  \\\n",
       "2003  AV_Champs_Elysees 2023-03-26 00:00:00         15.43722  Invalide   \n",
       "2004  AV_Champs_Elysees 2023-03-26 01:00:00         15.90278  Invalide   \n",
       "2005  AV_Champs_Elysees 2023-03-26 03:00:00              NaN  Invalide   \n",
       "2006  AV_Champs_Elysees 2023-03-26 04:00:00          6.17111  Invalide   \n",
       "\n",
       "      debit_horaire  \n",
       "2003          974.0  \n",
       "2004          942.0  \n",
       "2005            NaN  \n",
       "2006          544.0  "
      ]
     },
     "execution_count": 186,
     "metadata": {},
     "output_type": "execute_result"
    }
   ],
   "source": [
    "#check passage à l'heure d'été car on veut quand même garder les données par rapport aux heures réelles\n",
    "champs_2023_df_sorted_reduced.iloc[2003:2007]"
   ]
  },
  {
   "cell_type": "code",
   "execution_count": 182,
   "metadata": {},
   "outputs": [
    {
     "data": {
      "text/html": [
       "<div>\n",
       "<style scoped>\n",
       "    .dataframe tbody tr th:only-of-type {\n",
       "        vertical-align: middle;\n",
       "    }\n",
       "\n",
       "    .dataframe tbody tr th {\n",
       "        vertical-align: top;\n",
       "    }\n",
       "\n",
       "    .dataframe thead th {\n",
       "        text-align: right;\n",
       "    }\n",
       "</style>\n",
       "<table border=\"1\" class=\"dataframe\">\n",
       "  <thead>\n",
       "    <tr style=\"text-align: right;\">\n",
       "      <th></th>\n",
       "      <th>Libelle</th>\n",
       "      <th>timestamp</th>\n",
       "      <th>taux_occupation</th>\n",
       "      <th>etat_arc</th>\n",
       "      <th>debit_horaire</th>\n",
       "    </tr>\n",
       "  </thead>\n",
       "  <tbody>\n",
       "    <tr>\n",
       "      <th>0</th>\n",
       "      <td>AV_Champs_Elysees</td>\n",
       "      <td>2023-01-01 00:00:00</td>\n",
       "      <td>NaN</td>\n",
       "      <td>Barré</td>\n",
       "      <td>3.0</td>\n",
       "    </tr>\n",
       "    <tr>\n",
       "      <th>1</th>\n",
       "      <td>AV_Champs_Elysees</td>\n",
       "      <td>2023-01-01 01:00:00</td>\n",
       "      <td>NaN</td>\n",
       "      <td>Barré</td>\n",
       "      <td>116.0</td>\n",
       "    </tr>\n",
       "    <tr>\n",
       "      <th>2</th>\n",
       "      <td>AV_Champs_Elysees</td>\n",
       "      <td>2023-01-01 02:00:00</td>\n",
       "      <td>34.44445</td>\n",
       "      <td>Invalide</td>\n",
       "      <td>534.0</td>\n",
       "    </tr>\n",
       "  </tbody>\n",
       "</table>\n",
       "</div>"
      ],
      "text/plain": [
       "             Libelle           timestamp  taux_occupation  etat_arc  \\\n",
       "0  AV_Champs_Elysees 2023-01-01 00:00:00              NaN     Barré   \n",
       "1  AV_Champs_Elysees 2023-01-01 01:00:00              NaN     Barré   \n",
       "2  AV_Champs_Elysees 2023-01-01 02:00:00         34.44445  Invalide   \n",
       "\n",
       "   debit_horaire  \n",
       "0            3.0  \n",
       "1          116.0  \n",
       "2          534.0  "
      ]
     },
     "execution_count": 182,
     "metadata": {},
     "output_type": "execute_result"
    }
   ],
   "source": [
    "champs_2023_df_sorted_reduced.iloc[:3]"
   ]
  },
  {
   "cell_type": "code",
   "execution_count": 184,
   "metadata": {},
   "outputs": [
    {
     "name": "stdout",
     "output_type": "stream",
     "text": [
      "ratio de valeurs manquantes pour le taux d'occupation: 0.016755521706016754\n",
      "ratio de valeurs manquantes pour le débit horaire: 0.014597613607514598\n"
     ]
    }
   ],
   "source": [
    "ratio_nan_taux_occupation = champs_2023_df_sorted_reduced['taux_occupation'].isna().mean()\n",
    "ratio_nan_debit_horaire = champs_2023_df_sorted_reduced['debit_horaire'].isna().mean()\n",
    "print(f'ratio de valeurs manquantes pour le taux d\\'occupation: {ratio_nan_taux_occupation}')\n",
    "print(f'ratio de valeurs manquantes pour le débit horaire: {ratio_nan_debit_horaire}')"
   ]
  },
  {
   "cell_type": "code",
   "execution_count": 195,
   "metadata": {},
   "outputs": [],
   "source": [
    "daily_mean0 = champs_2023_df_sorted_reduced.loc[:,['taux_occupation', 'debit_horaire']].resample('D').mean()\n"
   ]
  },
  {
   "cell_type": "code",
   "execution_count": 199,
   "metadata": {},
   "outputs": [
    {
     "data": {
      "image/png": "[encoded data removed]",
      "text/plain": [
       "<Figure size 640x480 with 1 Axes>"
      ]
     },
     "metadata": {},
     "output_type": "display_data"
    }
   ],
   "source": [
    "# Create a figure and axis\n",
    "fig, ax = plt.subplots()\n",
    "\n",
    "# Plot the residual_solar and residual_onwind columns\n",
    "ax.plot(daily_mean0.index, daily_mean0[\"taux_occupation\"], label=\"taux_occupation\")\n",
    "\n",
    "\n",
    "# Set the x-axis label and title\n",
    "ax.set_xlabel(\"Date\")\n",
    "ax.set_title(\"taux d'occupation quotidien en 2023 pour les champs Elysées\")\n",
    "\n",
    "# Add a legend\n",
    "ax.legend()\n",
    "\n",
    "# Rotate the x-axis tick labels for better readability\n",
    "plt.xticks(rotation=45)\n",
    "\n",
    "# Display the plot\n",
    "plt.show()"
   ]
  },
  {
   "cell_type": "code",
   "execution_count": 198,
   "metadata": {},
   "outputs": [
    {
     "data": {
      "image/png": "[encoded data removed]",
      "text/plain": [
       "<Figure size 640x480 with 1 Axes>"
      ]
     },
     "metadata": {},
     "output_type": "display_data"
    }
   ],
   "source": [
    "# Create a figure and axis\n",
    "fig, ax = plt.subplots()\n",
    "\n",
    "# Plot the residual_solar and residual_onwind columns\n",
    "ax.plot(daily_mean0.index, daily_mean0[\"debit_horaire\"], label=\"debit_horaire\")\n",
    "\n",
    "\n",
    "# Set the x-axis label and title\n",
    "ax.set_xlabel(\"Date\")\n",
    "ax.set_title(\"débit horaire quotidien en 2023 pour les Champs Elysées\")\n",
    "\n",
    "# Add a legend\n",
    "ax.legend()\n",
    "\n",
    "# Rotate the x-axis tick labels for better readability\n",
    "plt.xticks(rotation=45)\n",
    "\n",
    "# Display the plot\n",
    "plt.show()"
   ]
  },
  {
   "cell_type": "code",
   "execution_count": 200,
   "metadata": {},
   "outputs": [],
   "source": []
  }
 ],
 "metadata": {
  "kernelspec": {
   "display_name": "Python 3",
   "language": "python",
   "name": "python3"
  },
  "language_info": {
   "codemirror_mode": {
    "name": "ipython",
    "version": 3
   },
   "file_extension": ".py",
   "mimetype": "text/x-python",
   "name": "python",
   "nbconvert_exporter": "python",
   "pygments_lexer": "ipython3",
   "version": "3.11.5"
  }
 },
 "nbformat": 4,
 "nbformat_minor": 2
}
